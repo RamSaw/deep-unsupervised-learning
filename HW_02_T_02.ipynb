{
  "nbformat": 4,
  "nbformat_minor": 0,
  "metadata": {
    "accelerator": "GPU",
    "colab": {
      "name": "HW_02_T_02.ipynb",
      "provenance": [],
      "collapsed_sections": [],
      "include_colab_link": true
    },
    "kernelspec": {
      "display_name": "Python 3",
      "language": "python",
      "name": "python3"
    },
    "language_info": {
      "codemirror_mode": {
        "name": "ipython",
        "version": 3
      },
      "file_extension": ".py",
      "mimetype": "text/x-python",
      "name": "python",
      "nbconvert_exporter": "python",
      "pygments_lexer": "ipython3",
      "version": "3.6.9"
    },
    "widgets": {
      "application/vnd.jupyter.widget-state+json": {
        "b608b9c992784ef892a5f73533768523": {
          "model_module": "@jupyter-widgets/controls",
          "model_name": "HBoxModel",
          "state": {
            "_view_name": "HBoxView",
            "_dom_classes": [],
            "_model_name": "HBoxModel",
            "_view_module": "@jupyter-widgets/controls",
            "_model_module_version": "1.5.0",
            "_view_count": null,
            "_view_module_version": "1.5.0",
            "box_style": "",
            "layout": "IPY_MODEL_6125ec8a292a49dbab78c570962e2ff0",
            "_model_module": "@jupyter-widgets/controls",
            "children": [
              "IPY_MODEL_cddca824b5bf434e9319e6fac350acba",
              "IPY_MODEL_a7130e7a3bae4f429c5d525780546589"
            ]
          }
        },
        "6125ec8a292a49dbab78c570962e2ff0": {
          "model_module": "@jupyter-widgets/base",
          "model_name": "LayoutModel",
          "state": {
            "_view_name": "LayoutView",
            "grid_template_rows": null,
            "right": null,
            "justify_content": null,
            "_view_module": "@jupyter-widgets/base",
            "overflow": null,
            "_model_module_version": "1.2.0",
            "_view_count": null,
            "flex_flow": null,
            "width": null,
            "min_width": null,
            "border": null,
            "align_items": null,
            "bottom": null,
            "_model_module": "@jupyter-widgets/base",
            "top": null,
            "grid_column": null,
            "overflow_y": null,
            "overflow_x": null,
            "grid_auto_flow": null,
            "grid_area": null,
            "grid_template_columns": null,
            "flex": null,
            "_model_name": "LayoutModel",
            "justify_items": null,
            "grid_row": null,
            "max_height": null,
            "align_content": null,
            "visibility": null,
            "align_self": null,
            "height": null,
            "min_height": null,
            "padding": null,
            "grid_auto_rows": null,
            "grid_gap": null,
            "max_width": null,
            "order": null,
            "_view_module_version": "1.2.0",
            "grid_template_areas": null,
            "object_position": null,
            "object_fit": null,
            "grid_auto_columns": null,
            "margin": null,
            "display": null,
            "left": null
          }
        },
        "cddca824b5bf434e9319e6fac350acba": {
          "model_module": "@jupyter-widgets/controls",
          "model_name": "IntProgressModel",
          "state": {
            "_view_name": "ProgressView",
            "style": "IPY_MODEL_84810ec380ee4c45aa42956d3d6ca200",
            "_dom_classes": [],
            "description": "",
            "_model_name": "IntProgressModel",
            "bar_style": "success",
            "max": 10,
            "_view_module": "@jupyter-widgets/controls",
            "_model_module_version": "1.5.0",
            "value": 10,
            "_view_count": null,
            "_view_module_version": "1.5.0",
            "orientation": "horizontal",
            "min": 0,
            "description_tooltip": null,
            "_model_module": "@jupyter-widgets/controls",
            "layout": "IPY_MODEL_faa20856a4d54b228e55465c087c83d4"
          }
        },
        "a7130e7a3bae4f429c5d525780546589": {
          "model_module": "@jupyter-widgets/controls",
          "model_name": "HTMLModel",
          "state": {
            "_view_name": "HTMLView",
            "style": "IPY_MODEL_323ea4ef3ad04e1d89900bce9cf2aeb3",
            "_dom_classes": [],
            "description": "",
            "_model_name": "HTMLModel",
            "placeholder": "​",
            "_view_module": "@jupyter-widgets/controls",
            "_model_module_version": "1.5.0",
            "value": "100% 10/10 [00:21&lt;00:00,  2.11s/it]",
            "_view_count": null,
            "_view_module_version": "1.5.0",
            "description_tooltip": null,
            "_model_module": "@jupyter-widgets/controls",
            "layout": "IPY_MODEL_099a4c2e801b490aa824a0c74680751a"
          }
        },
        "84810ec380ee4c45aa42956d3d6ca200": {
          "model_module": "@jupyter-widgets/controls",
          "model_name": "ProgressStyleModel",
          "state": {
            "_view_name": "StyleView",
            "_model_name": "ProgressStyleModel",
            "description_width": "",
            "_view_module": "@jupyter-widgets/base",
            "_model_module_version": "1.5.0",
            "_view_count": null,
            "_view_module_version": "1.2.0",
            "bar_color": null,
            "_model_module": "@jupyter-widgets/controls"
          }
        },
        "faa20856a4d54b228e55465c087c83d4": {
          "model_module": "@jupyter-widgets/base",
          "model_name": "LayoutModel",
          "state": {
            "_view_name": "LayoutView",
            "grid_template_rows": null,
            "right": null,
            "justify_content": null,
            "_view_module": "@jupyter-widgets/base",
            "overflow": null,
            "_model_module_version": "1.2.0",
            "_view_count": null,
            "flex_flow": null,
            "width": null,
            "min_width": null,
            "border": null,
            "align_items": null,
            "bottom": null,
            "_model_module": "@jupyter-widgets/base",
            "top": null,
            "grid_column": null,
            "overflow_y": null,
            "overflow_x": null,
            "grid_auto_flow": null,
            "grid_area": null,
            "grid_template_columns": null,
            "flex": null,
            "_model_name": "LayoutModel",
            "justify_items": null,
            "grid_row": null,
            "max_height": null,
            "align_content": null,
            "visibility": null,
            "align_self": null,
            "height": null,
            "min_height": null,
            "padding": null,
            "grid_auto_rows": null,
            "grid_gap": null,
            "max_width": null,
            "order": null,
            "_view_module_version": "1.2.0",
            "grid_template_areas": null,
            "object_position": null,
            "object_fit": null,
            "grid_auto_columns": null,
            "margin": null,
            "display": null,
            "left": null
          }
        },
        "323ea4ef3ad04e1d89900bce9cf2aeb3": {
          "model_module": "@jupyter-widgets/controls",
          "model_name": "DescriptionStyleModel",
          "state": {
            "_view_name": "StyleView",
            "_model_name": "DescriptionStyleModel",
            "description_width": "",
            "_view_module": "@jupyter-widgets/base",
            "_model_module_version": "1.5.0",
            "_view_count": null,
            "_view_module_version": "1.2.0",
            "_model_module": "@jupyter-widgets/controls"
          }
        },
        "099a4c2e801b490aa824a0c74680751a": {
          "model_module": "@jupyter-widgets/base",
          "model_name": "LayoutModel",
          "state": {
            "_view_name": "LayoutView",
            "grid_template_rows": null,
            "right": null,
            "justify_content": null,
            "_view_module": "@jupyter-widgets/base",
            "overflow": null,
            "_model_module_version": "1.2.0",
            "_view_count": null,
            "flex_flow": null,
            "width": null,
            "min_width": null,
            "border": null,
            "align_items": null,
            "bottom": null,
            "_model_module": "@jupyter-widgets/base",
            "top": null,
            "grid_column": null,
            "overflow_y": null,
            "overflow_x": null,
            "grid_auto_flow": null,
            "grid_area": null,
            "grid_template_columns": null,
            "flex": null,
            "_model_name": "LayoutModel",
            "justify_items": null,
            "grid_row": null,
            "max_height": null,
            "align_content": null,
            "visibility": null,
            "align_self": null,
            "height": null,
            "min_height": null,
            "padding": null,
            "grid_auto_rows": null,
            "grid_gap": null,
            "max_width": null,
            "order": null,
            "_view_module_version": "1.2.0",
            "grid_template_areas": null,
            "object_position": null,
            "object_fit": null,
            "grid_auto_columns": null,
            "margin": null,
            "display": null,
            "left": null
          }
        },
        "d8bf99165a5c4b4a8a310840db76c61b": {
          "model_module": "@jupyter-widgets/controls",
          "model_name": "HBoxModel",
          "state": {
            "_view_name": "HBoxView",
            "_dom_classes": [],
            "_model_name": "HBoxModel",
            "_view_module": "@jupyter-widgets/controls",
            "_model_module_version": "1.5.0",
            "_view_count": null,
            "_view_module_version": "1.5.0",
            "box_style": "",
            "layout": "IPY_MODEL_f9a08ed5928949c0adb8e711e9dd1f28",
            "_model_module": "@jupyter-widgets/controls",
            "children": [
              "IPY_MODEL_3d0a5918682f41a99af93ee462faf4cd",
              "IPY_MODEL_576ce48c590749cc9e292d6dd556cea2"
            ]
          }
        },
        "f9a08ed5928949c0adb8e711e9dd1f28": {
          "model_module": "@jupyter-widgets/base",
          "model_name": "LayoutModel",
          "state": {
            "_view_name": "LayoutView",
            "grid_template_rows": null,
            "right": null,
            "justify_content": null,
            "_view_module": "@jupyter-widgets/base",
            "overflow": null,
            "_model_module_version": "1.2.0",
            "_view_count": null,
            "flex_flow": null,
            "width": null,
            "min_width": null,
            "border": null,
            "align_items": null,
            "bottom": null,
            "_model_module": "@jupyter-widgets/base",
            "top": null,
            "grid_column": null,
            "overflow_y": null,
            "overflow_x": null,
            "grid_auto_flow": null,
            "grid_area": null,
            "grid_template_columns": null,
            "flex": null,
            "_model_name": "LayoutModel",
            "justify_items": null,
            "grid_row": null,
            "max_height": null,
            "align_content": null,
            "visibility": null,
            "align_self": null,
            "height": null,
            "min_height": null,
            "padding": null,
            "grid_auto_rows": null,
            "grid_gap": null,
            "max_width": null,
            "order": null,
            "_view_module_version": "1.2.0",
            "grid_template_areas": null,
            "object_position": null,
            "object_fit": null,
            "grid_auto_columns": null,
            "margin": null,
            "display": null,
            "left": null
          }
        },
        "3d0a5918682f41a99af93ee462faf4cd": {
          "model_module": "@jupyter-widgets/controls",
          "model_name": "IntProgressModel",
          "state": {
            "_view_name": "ProgressView",
            "style": "IPY_MODEL_48e6265651874eed80a3ee04f19d73aa",
            "_dom_classes": [],
            "description": "",
            "_model_name": "IntProgressModel",
            "bar_style": "success",
            "max": 10,
            "_view_module": "@jupyter-widgets/controls",
            "_model_module_version": "1.5.0",
            "value": 10,
            "_view_count": null,
            "_view_module_version": "1.5.0",
            "orientation": "horizontal",
            "min": 0,
            "description_tooltip": null,
            "_model_module": "@jupyter-widgets/controls",
            "layout": "IPY_MODEL_d0d67a4ff56647339490ddd0a603a7c7"
          }
        },
        "576ce48c590749cc9e292d6dd556cea2": {
          "model_module": "@jupyter-widgets/controls",
          "model_name": "HTMLModel",
          "state": {
            "_view_name": "HTMLView",
            "style": "IPY_MODEL_13a2274413994bb99db7a3646129c197",
            "_dom_classes": [],
            "description": "",
            "_model_name": "HTMLModel",
            "placeholder": "​",
            "_view_module": "@jupyter-widgets/controls",
            "_model_module_version": "1.5.0",
            "value": "100% 10/10 [00:21&lt;00:00,  2.11s/it]",
            "_view_count": null,
            "_view_module_version": "1.5.0",
            "description_tooltip": null,
            "_model_module": "@jupyter-widgets/controls",
            "layout": "IPY_MODEL_b048bd84b3fa4a4685a801bf01982ca2"
          }
        },
        "48e6265651874eed80a3ee04f19d73aa": {
          "model_module": "@jupyter-widgets/controls",
          "model_name": "ProgressStyleModel",
          "state": {
            "_view_name": "StyleView",
            "_model_name": "ProgressStyleModel",
            "description_width": "",
            "_view_module": "@jupyter-widgets/base",
            "_model_module_version": "1.5.0",
            "_view_count": null,
            "_view_module_version": "1.2.0",
            "bar_color": null,
            "_model_module": "@jupyter-widgets/controls"
          }
        },
        "d0d67a4ff56647339490ddd0a603a7c7": {
          "model_module": "@jupyter-widgets/base",
          "model_name": "LayoutModel",
          "state": {
            "_view_name": "LayoutView",
            "grid_template_rows": null,
            "right": null,
            "justify_content": null,
            "_view_module": "@jupyter-widgets/base",
            "overflow": null,
            "_model_module_version": "1.2.0",
            "_view_count": null,
            "flex_flow": null,
            "width": null,
            "min_width": null,
            "border": null,
            "align_items": null,
            "bottom": null,
            "_model_module": "@jupyter-widgets/base",
            "top": null,
            "grid_column": null,
            "overflow_y": null,
            "overflow_x": null,
            "grid_auto_flow": null,
            "grid_area": null,
            "grid_template_columns": null,
            "flex": null,
            "_model_name": "LayoutModel",
            "justify_items": null,
            "grid_row": null,
            "max_height": null,
            "align_content": null,
            "visibility": null,
            "align_self": null,
            "height": null,
            "min_height": null,
            "padding": null,
            "grid_auto_rows": null,
            "grid_gap": null,
            "max_width": null,
            "order": null,
            "_view_module_version": "1.2.0",
            "grid_template_areas": null,
            "object_position": null,
            "object_fit": null,
            "grid_auto_columns": null,
            "margin": null,
            "display": null,
            "left": null
          }
        },
        "13a2274413994bb99db7a3646129c197": {
          "model_module": "@jupyter-widgets/controls",
          "model_name": "DescriptionStyleModel",
          "state": {
            "_view_name": "StyleView",
            "_model_name": "DescriptionStyleModel",
            "description_width": "",
            "_view_module": "@jupyter-widgets/base",
            "_model_module_version": "1.5.0",
            "_view_count": null,
            "_view_module_version": "1.2.0",
            "_model_module": "@jupyter-widgets/controls"
          }
        },
        "b048bd84b3fa4a4685a801bf01982ca2": {
          "model_module": "@jupyter-widgets/base",
          "model_name": "LayoutModel",
          "state": {
            "_view_name": "LayoutView",
            "grid_template_rows": null,
            "right": null,
            "justify_content": null,
            "_view_module": "@jupyter-widgets/base",
            "overflow": null,
            "_model_module_version": "1.2.0",
            "_view_count": null,
            "flex_flow": null,
            "width": null,
            "min_width": null,
            "border": null,
            "align_items": null,
            "bottom": null,
            "_model_module": "@jupyter-widgets/base",
            "top": null,
            "grid_column": null,
            "overflow_y": null,
            "overflow_x": null,
            "grid_auto_flow": null,
            "grid_area": null,
            "grid_template_columns": null,
            "flex": null,
            "_model_name": "LayoutModel",
            "justify_items": null,
            "grid_row": null,
            "max_height": null,
            "align_content": null,
            "visibility": null,
            "align_self": null,
            "height": null,
            "min_height": null,
            "padding": null,
            "grid_auto_rows": null,
            "grid_gap": null,
            "max_width": null,
            "order": null,
            "_view_module_version": "1.2.0",
            "grid_template_areas": null,
            "object_position": null,
            "object_fit": null,
            "grid_auto_columns": null,
            "margin": null,
            "display": null,
            "left": null
          }
        },
        "53738fd6aa6347a5973593662decc91e": {
          "model_module": "@jupyter-widgets/controls",
          "model_name": "HBoxModel",
          "state": {
            "_view_name": "HBoxView",
            "_dom_classes": [],
            "_model_name": "HBoxModel",
            "_view_module": "@jupyter-widgets/controls",
            "_model_module_version": "1.5.0",
            "_view_count": null,
            "_view_module_version": "1.5.0",
            "box_style": "",
            "layout": "IPY_MODEL_3b8329ee40c24c5aa7c866f1e7b0b85b",
            "_model_module": "@jupyter-widgets/controls",
            "children": [
              "IPY_MODEL_ae901d0d75ac48f8af3e8efcf9152234",
              "IPY_MODEL_3570839b1a104bc4b22569d0cc72aa6c"
            ]
          }
        },
        "3b8329ee40c24c5aa7c866f1e7b0b85b": {
          "model_module": "@jupyter-widgets/base",
          "model_name": "LayoutModel",
          "state": {
            "_view_name": "LayoutView",
            "grid_template_rows": null,
            "right": null,
            "justify_content": null,
            "_view_module": "@jupyter-widgets/base",
            "overflow": null,
            "_model_module_version": "1.2.0",
            "_view_count": null,
            "flex_flow": null,
            "width": null,
            "min_width": null,
            "border": null,
            "align_items": null,
            "bottom": null,
            "_model_module": "@jupyter-widgets/base",
            "top": null,
            "grid_column": null,
            "overflow_y": null,
            "overflow_x": null,
            "grid_auto_flow": null,
            "grid_area": null,
            "grid_template_columns": null,
            "flex": null,
            "_model_name": "LayoutModel",
            "justify_items": null,
            "grid_row": null,
            "max_height": null,
            "align_content": null,
            "visibility": null,
            "align_self": null,
            "height": null,
            "min_height": null,
            "padding": null,
            "grid_auto_rows": null,
            "grid_gap": null,
            "max_width": null,
            "order": null,
            "_view_module_version": "1.2.0",
            "grid_template_areas": null,
            "object_position": null,
            "object_fit": null,
            "grid_auto_columns": null,
            "margin": null,
            "display": null,
            "left": null
          }
        },
        "ae901d0d75ac48f8af3e8efcf9152234": {
          "model_module": "@jupyter-widgets/controls",
          "model_name": "IntProgressModel",
          "state": {
            "_view_name": "ProgressView",
            "style": "IPY_MODEL_0127d4a609ce46149cd364f6dc55bdbc",
            "_dom_classes": [],
            "description": "",
            "_model_name": "IntProgressModel",
            "bar_style": "success",
            "max": 10,
            "_view_module": "@jupyter-widgets/controls",
            "_model_module_version": "1.5.0",
            "value": 10,
            "_view_count": null,
            "_view_module_version": "1.5.0",
            "orientation": "horizontal",
            "min": 0,
            "description_tooltip": null,
            "_model_module": "@jupyter-widgets/controls",
            "layout": "IPY_MODEL_bf3eb1e5689440e39b1f7f8beef7bab5"
          }
        },
        "3570839b1a104bc4b22569d0cc72aa6c": {
          "model_module": "@jupyter-widgets/controls",
          "model_name": "HTMLModel",
          "state": {
            "_view_name": "HTMLView",
            "style": "IPY_MODEL_dd328bc9fe2c43f49c871fcbfb1abcf7",
            "_dom_classes": [],
            "description": "",
            "_model_name": "HTMLModel",
            "placeholder": "​",
            "_view_module": "@jupyter-widgets/controls",
            "_model_module_version": "1.5.0",
            "value": "100% 10/10 [00:21&lt;00:00,  2.13s/it]",
            "_view_count": null,
            "_view_module_version": "1.5.0",
            "description_tooltip": null,
            "_model_module": "@jupyter-widgets/controls",
            "layout": "IPY_MODEL_8e11eea938b1493d99e3e7398c6cf438"
          }
        },
        "0127d4a609ce46149cd364f6dc55bdbc": {
          "model_module": "@jupyter-widgets/controls",
          "model_name": "ProgressStyleModel",
          "state": {
            "_view_name": "StyleView",
            "_model_name": "ProgressStyleModel",
            "description_width": "",
            "_view_module": "@jupyter-widgets/base",
            "_model_module_version": "1.5.0",
            "_view_count": null,
            "_view_module_version": "1.2.0",
            "bar_color": null,
            "_model_module": "@jupyter-widgets/controls"
          }
        },
        "bf3eb1e5689440e39b1f7f8beef7bab5": {
          "model_module": "@jupyter-widgets/base",
          "model_name": "LayoutModel",
          "state": {
            "_view_name": "LayoutView",
            "grid_template_rows": null,
            "right": null,
            "justify_content": null,
            "_view_module": "@jupyter-widgets/base",
            "overflow": null,
            "_model_module_version": "1.2.0",
            "_view_count": null,
            "flex_flow": null,
            "width": null,
            "min_width": null,
            "border": null,
            "align_items": null,
            "bottom": null,
            "_model_module": "@jupyter-widgets/base",
            "top": null,
            "grid_column": null,
            "overflow_y": null,
            "overflow_x": null,
            "grid_auto_flow": null,
            "grid_area": null,
            "grid_template_columns": null,
            "flex": null,
            "_model_name": "LayoutModel",
            "justify_items": null,
            "grid_row": null,
            "max_height": null,
            "align_content": null,
            "visibility": null,
            "align_self": null,
            "height": null,
            "min_height": null,
            "padding": null,
            "grid_auto_rows": null,
            "grid_gap": null,
            "max_width": null,
            "order": null,
            "_view_module_version": "1.2.0",
            "grid_template_areas": null,
            "object_position": null,
            "object_fit": null,
            "grid_auto_columns": null,
            "margin": null,
            "display": null,
            "left": null
          }
        },
        "dd328bc9fe2c43f49c871fcbfb1abcf7": {
          "model_module": "@jupyter-widgets/controls",
          "model_name": "DescriptionStyleModel",
          "state": {
            "_view_name": "StyleView",
            "_model_name": "DescriptionStyleModel",
            "description_width": "",
            "_view_module": "@jupyter-widgets/base",
            "_model_module_version": "1.5.0",
            "_view_count": null,
            "_view_module_version": "1.2.0",
            "_model_module": "@jupyter-widgets/controls"
          }
        },
        "8e11eea938b1493d99e3e7398c6cf438": {
          "model_module": "@jupyter-widgets/base",
          "model_name": "LayoutModel",
          "state": {
            "_view_name": "LayoutView",
            "grid_template_rows": null,
            "right": null,
            "justify_content": null,
            "_view_module": "@jupyter-widgets/base",
            "overflow": null,
            "_model_module_version": "1.2.0",
            "_view_count": null,
            "flex_flow": null,
            "width": null,
            "min_width": null,
            "border": null,
            "align_items": null,
            "bottom": null,
            "_model_module": "@jupyter-widgets/base",
            "top": null,
            "grid_column": null,
            "overflow_y": null,
            "overflow_x": null,
            "grid_auto_flow": null,
            "grid_area": null,
            "grid_template_columns": null,
            "flex": null,
            "_model_name": "LayoutModel",
            "justify_items": null,
            "grid_row": null,
            "max_height": null,
            "align_content": null,
            "visibility": null,
            "align_self": null,
            "height": null,
            "min_height": null,
            "padding": null,
            "grid_auto_rows": null,
            "grid_gap": null,
            "max_width": null,
            "order": null,
            "_view_module_version": "1.2.0",
            "grid_template_areas": null,
            "object_position": null,
            "object_fit": null,
            "grid_auto_columns": null,
            "margin": null,
            "display": null,
            "left": null
          }
        },
        "d122dd4017904202b0f60a6d63226d8e": {
          "model_module": "@jupyter-widgets/controls",
          "model_name": "HBoxModel",
          "state": {
            "_view_name": "HBoxView",
            "_dom_classes": [],
            "_model_name": "HBoxModel",
            "_view_module": "@jupyter-widgets/controls",
            "_model_module_version": "1.5.0",
            "_view_count": null,
            "_view_module_version": "1.5.0",
            "box_style": "",
            "layout": "IPY_MODEL_0d579de6cfa940a1aa44ed243447bb88",
            "_model_module": "@jupyter-widgets/controls",
            "children": [
              "IPY_MODEL_e0140989b9e64f888c624caa20892cdc",
              "IPY_MODEL_5a784f51002241c980d2745bf1304f0c"
            ]
          }
        },
        "0d579de6cfa940a1aa44ed243447bb88": {
          "model_module": "@jupyter-widgets/base",
          "model_name": "LayoutModel",
          "state": {
            "_view_name": "LayoutView",
            "grid_template_rows": null,
            "right": null,
            "justify_content": null,
            "_view_module": "@jupyter-widgets/base",
            "overflow": null,
            "_model_module_version": "1.2.0",
            "_view_count": null,
            "flex_flow": null,
            "width": null,
            "min_width": null,
            "border": null,
            "align_items": null,
            "bottom": null,
            "_model_module": "@jupyter-widgets/base",
            "top": null,
            "grid_column": null,
            "overflow_y": null,
            "overflow_x": null,
            "grid_auto_flow": null,
            "grid_area": null,
            "grid_template_columns": null,
            "flex": null,
            "_model_name": "LayoutModel",
            "justify_items": null,
            "grid_row": null,
            "max_height": null,
            "align_content": null,
            "visibility": null,
            "align_self": null,
            "height": null,
            "min_height": null,
            "padding": null,
            "grid_auto_rows": null,
            "grid_gap": null,
            "max_width": null,
            "order": null,
            "_view_module_version": "1.2.0",
            "grid_template_areas": null,
            "object_position": null,
            "object_fit": null,
            "grid_auto_columns": null,
            "margin": null,
            "display": null,
            "left": null
          }
        },
        "e0140989b9e64f888c624caa20892cdc": {
          "model_module": "@jupyter-widgets/controls",
          "model_name": "IntProgressModel",
          "state": {
            "_view_name": "ProgressView",
            "style": "IPY_MODEL_aee9d20b1f924fc9a1b2872c9a3e429a",
            "_dom_classes": [],
            "description": "",
            "_model_name": "IntProgressModel",
            "bar_style": "success",
            "max": 10,
            "_view_module": "@jupyter-widgets/controls",
            "_model_module_version": "1.5.0",
            "value": 10,
            "_view_count": null,
            "_view_module_version": "1.5.0",
            "orientation": "horizontal",
            "min": 0,
            "description_tooltip": null,
            "_model_module": "@jupyter-widgets/controls",
            "layout": "IPY_MODEL_5f82f14b957c42ecae254408225ce83e"
          }
        },
        "5a784f51002241c980d2745bf1304f0c": {
          "model_module": "@jupyter-widgets/controls",
          "model_name": "HTMLModel",
          "state": {
            "_view_name": "HTMLView",
            "style": "IPY_MODEL_d934510631b34439830c3aa2cde19a94",
            "_dom_classes": [],
            "description": "",
            "_model_name": "HTMLModel",
            "placeholder": "​",
            "_view_module": "@jupyter-widgets/controls",
            "_model_module_version": "1.5.0",
            "value": "100% 10/10 [00:21&lt;00:00,  2.12s/it]",
            "_view_count": null,
            "_view_module_version": "1.5.0",
            "description_tooltip": null,
            "_model_module": "@jupyter-widgets/controls",
            "layout": "IPY_MODEL_2f09348c9cf94c678018498b0b38fdac"
          }
        },
        "aee9d20b1f924fc9a1b2872c9a3e429a": {
          "model_module": "@jupyter-widgets/controls",
          "model_name": "ProgressStyleModel",
          "state": {
            "_view_name": "StyleView",
            "_model_name": "ProgressStyleModel",
            "description_width": "",
            "_view_module": "@jupyter-widgets/base",
            "_model_module_version": "1.5.0",
            "_view_count": null,
            "_view_module_version": "1.2.0",
            "bar_color": null,
            "_model_module": "@jupyter-widgets/controls"
          }
        },
        "5f82f14b957c42ecae254408225ce83e": {
          "model_module": "@jupyter-widgets/base",
          "model_name": "LayoutModel",
          "state": {
            "_view_name": "LayoutView",
            "grid_template_rows": null,
            "right": null,
            "justify_content": null,
            "_view_module": "@jupyter-widgets/base",
            "overflow": null,
            "_model_module_version": "1.2.0",
            "_view_count": null,
            "flex_flow": null,
            "width": null,
            "min_width": null,
            "border": null,
            "align_items": null,
            "bottom": null,
            "_model_module": "@jupyter-widgets/base",
            "top": null,
            "grid_column": null,
            "overflow_y": null,
            "overflow_x": null,
            "grid_auto_flow": null,
            "grid_area": null,
            "grid_template_columns": null,
            "flex": null,
            "_model_name": "LayoutModel",
            "justify_items": null,
            "grid_row": null,
            "max_height": null,
            "align_content": null,
            "visibility": null,
            "align_self": null,
            "height": null,
            "min_height": null,
            "padding": null,
            "grid_auto_rows": null,
            "grid_gap": null,
            "max_width": null,
            "order": null,
            "_view_module_version": "1.2.0",
            "grid_template_areas": null,
            "object_position": null,
            "object_fit": null,
            "grid_auto_columns": null,
            "margin": null,
            "display": null,
            "left": null
          }
        },
        "d934510631b34439830c3aa2cde19a94": {
          "model_module": "@jupyter-widgets/controls",
          "model_name": "DescriptionStyleModel",
          "state": {
            "_view_name": "StyleView",
            "_model_name": "DescriptionStyleModel",
            "description_width": "",
            "_view_module": "@jupyter-widgets/base",
            "_model_module_version": "1.5.0",
            "_view_count": null,
            "_view_module_version": "1.2.0",
            "_model_module": "@jupyter-widgets/controls"
          }
        },
        "2f09348c9cf94c678018498b0b38fdac": {
          "model_module": "@jupyter-widgets/base",
          "model_name": "LayoutModel",
          "state": {
            "_view_name": "LayoutView",
            "grid_template_rows": null,
            "right": null,
            "justify_content": null,
            "_view_module": "@jupyter-widgets/base",
            "overflow": null,
            "_model_module_version": "1.2.0",
            "_view_count": null,
            "flex_flow": null,
            "width": null,
            "min_width": null,
            "border": null,
            "align_items": null,
            "bottom": null,
            "_model_module": "@jupyter-widgets/base",
            "top": null,
            "grid_column": null,
            "overflow_y": null,
            "overflow_x": null,
            "grid_auto_flow": null,
            "grid_area": null,
            "grid_template_columns": null,
            "flex": null,
            "_model_name": "LayoutModel",
            "justify_items": null,
            "grid_row": null,
            "max_height": null,
            "align_content": null,
            "visibility": null,
            "align_self": null,
            "height": null,
            "min_height": null,
            "padding": null,
            "grid_auto_rows": null,
            "grid_gap": null,
            "max_width": null,
            "order": null,
            "_view_module_version": "1.2.0",
            "grid_template_areas": null,
            "object_position": null,
            "object_fit": null,
            "grid_auto_columns": null,
            "margin": null,
            "display": null,
            "left": null
          }
        }
      }
    }
  },
  "cells": [
    {
      "cell_type": "markdown",
      "metadata": {
        "id": "view-in-github",
        "colab_type": "text"
      },
      "source": [
        "<a href=\"https://colab.research.google.com/github/RamSaw/deep-unsupervised-learning/blob/HW_02_T_02/HW_02_T_02.ipynb\" target=\"_parent\"><img src=\"https://colab.research.google.com/assets/colab-badge.svg\" alt=\"Open In Colab\"/></a>"
      ]
    },
    {
      "cell_type": "code",
      "metadata": {
        "colab_type": "code",
        "id": "l6yilnNbWC0j",
        "colab": {}
      },
      "source": [
        "import numpy as np\n",
        "import torch\n",
        "import random\n",
        "import os\n",
        "import matplotlib.pyplot as plt\n",
        "import matplotlib\n",
        "import torch \n",
        "import torch.nn as nn\n",
        "from tqdm.auto import tqdm\n",
        "from torch.distributions import Normal, MultivariateNormal, Uniform\n",
        "import torch.nn.functional as F\n",
        "from sklearn.model_selection import train_test_split\n",
        "from torch.autograd import Variable\n",
        "import pickle\n",
        "from torch.utils.data import DataLoader\n",
        "import torchvision\n",
        "from matplotlib import pyplot as plt"
      ],
      "execution_count": 0,
      "outputs": []
    },
    {
      "cell_type": "code",
      "metadata": {
        "colab_type": "code",
        "id": "KAgXxgm-Zjcx",
        "outputId": "33720729-6f16-4835-f186-4db16f23927e",
        "colab": {
          "base_uri": "https://localhost:8080/",
          "height": 34
        }
      },
      "source": [
        "def make_reproducible(seed, make_cuda_reproducible):\n",
        "    random.seed(seed)\n",
        "    os.environ['PYTHONHASHSEED'] = str(seed)\n",
        "    np.random.seed(seed)\n",
        "    torch.manual_seed(seed)\n",
        "    if make_cuda_reproducible:\n",
        "        torch.backends.cudnn.deterministic = True\n",
        "        torch.backends.cudnn.benchmark = False\n",
        "\n",
        "SEED = 2341\n",
        "make_reproducible(SEED, False)\n",
        "DEVICE = torch.device('cuda' if torch.cuda.is_available() else 'cpu')\n",
        "print(DEVICE)"
      ],
      "execution_count": 2,
      "outputs": [
        {
          "output_type": "stream",
          "text": [
            "cuda\n"
          ],
          "name": "stdout"
        }
      ]
    },
    {
      "cell_type": "code",
      "metadata": {
        "colab_type": "code",
        "id": "IvGb5Y2fZvwz",
        "outputId": "82d0ca47-8b87-4956-a643-4e0ab6aa6e15",
        "colab": {
          "base_uri": "https://localhost:8080/",
          "height": 69
        }
      },
      "source": [
        "with open('hw2_q2.pkl', 'rb') as f:\n",
        "    DATA = pickle.load(f)\n",
        "print(DATA.keys())\n",
        "DATA['train'] = torch.FloatTensor(DATA['train']).permute(0, 3, 1, 2)\n",
        "DATA['test'] = torch.FloatTensor(DATA['test']).permute(0, 3, 1, 2)\n",
        "print(DATA['train'].shape)\n",
        "print(DATA['test'].shape)"
      ],
      "execution_count": 3,
      "outputs": [
        {
          "output_type": "stream",
          "text": [
            "dict_keys(['train', 'test'])\n",
            "torch.Size([20000, 3, 32, 32])\n",
            "torch.Size([6838, 3, 32, 32])\n"
          ],
          "name": "stdout"
        }
      ]
    },
    {
      "cell_type": "code",
      "metadata": {
        "colab_type": "code",
        "id": "w_SEZLjkZ0c-",
        "colab": {}
      },
      "source": [
        "def show(images):\n",
        "    images = images.permute(0, 2, 3, 1)\n",
        "    fig=plt.figure(figsize=(8, 8))\n",
        "    columns = images.shape[0]\n",
        "    rows = 1\n",
        "    for i, img in enumerate(images):\n",
        "        fig.add_subplot(rows, columns, i + 1)\n",
        "        plt.imshow(img / 3)"
      ],
      "execution_count": 0,
      "outputs": []
    },
    {
      "cell_type": "code",
      "metadata": {
        "colab_type": "code",
        "id": "orDtnEbCZ043",
        "outputId": "04a39d2b-c099-4fdf-fe22-9cdafc94f5c8",
        "colab": {
          "base_uri": "https://localhost:8080/",
          "height": 128
        }
      },
      "source": [
        "show(DATA['train'][:5])"
      ],
      "execution_count": 5,
      "outputs": [
        {
          "output_type": "display_data",
          "data": {
            "image/png": "[encoded data removed]",
            "text/plain": [
              "<Figure size 576x576 with 5 Axes>"
            ]
          },
          "metadata": {
            "tags": []
          }
        }
      ]
    },
    {
      "cell_type": "code",
      "metadata": {
        "colab_type": "code",
        "id": "8rRVE-3IZ2ue",
        "colab": {}
      },
      "source": [
        "class Resnet(nn.Module):\n",
        "    def __init__(self, ch_in, n_filters=256, n_blocks=8):\n",
        "        super(Resnet,self).__init__()\n",
        "        ch_out = ch_in * 2\n",
        "        self.n_blocks = n_blocks\n",
        "        self.conv1 = nn.Conv2d(ch_in, n_filters, kernel_size=(3, 3), stride=(1, 1), padding=2)\n",
        "        get_ht_model = lambda: nn.Sequential(\n",
        "            nn.Conv2d(n_filters, n_filters, kernel_size=(1, 1), stride=(1, 1), padding=0),\n",
        "            nn.ReLU(),\n",
        "            nn.Conv2d(n_filters, n_filters, kernel_size=(3, 3), stride=(1, 1), padding=1)\n",
        "        )\n",
        "        get_h_model = lambda: nn.Sequential(\n",
        "            nn.ReLU(),\n",
        "            nn.Conv2d(n_filters, n_filters, kernel_size=(1,1), stride=(1, 1), padding=0)\n",
        "        )\n",
        "        self._h_model = torch.nn.ModuleList([get_ht_model() for _ in range(n_blocks)])\n",
        "        self.h_model = torch.nn.ModuleList([get_h_model() for _ in range(n_blocks)])\n",
        "        #self.h_sum = torch.nn.ModuleList([nn.ReLU() for _ in range(n_blocks)])\n",
        "        self.conv2 = nn.Conv2d(n_filters, ch_out, kernel_size=(3, 3), stride=(1, 1))\n",
        "    \n",
        "    def forward(self, x):\n",
        "        h = self.conv1(x)\n",
        "        for i in range(self.n_blocks):\n",
        "            _h = self._h_model[i](h)\n",
        "            h = self.h_model[i](_h)\n",
        "            h = (h + _h)\n",
        "        h = F.relu(h)\n",
        "        x = self.conv2(h)\n",
        "        return x"
      ],
      "execution_count": 0,
      "outputs": []
    },
    {
      "cell_type": "code",
      "metadata": {
        "colab_type": "code",
        "id": "zz6brm8AcZwU",
        "outputId": "5c97c0b8-ce86-4f09-9644-cace16c6bc44",
        "colab": {
          "base_uri": "https://localhost:8080/",
          "height": 34
        }
      },
      "source": [
        "Resnet(3, 2)(torch.randn((64, 3, 32, 32))).shape"
      ],
      "execution_count": 7,
      "outputs": [
        {
          "output_type": "execute_result",
          "data": {
            "text/plain": [
              "torch.Size([64, 6, 32, 32])"
            ]
          },
          "metadata": {
            "tags": []
          },
          "execution_count": 7
        }
      ]
    },
    {
      "cell_type": "code",
      "metadata": {
        "colab_type": "code",
        "id": "sMjLXWP9cYkC",
        "colab": {}
      },
      "source": [
        "class AffineCoupling(nn.Module):\n",
        "    def __init__(self, ch_in):\n",
        "        super(AffineCoupling, self).__init__()\n",
        "        self.resnet = Resnet(ch_in)\n",
        "    def forward(self, x):\n",
        "      (x1, x2) = x\n",
        "      y1 = x1\n",
        "      log_s, t = torch.chunk(self.resnet(x1), 2, dim=1)\n",
        "      y2 = torch.exp(log_s) * (y1 + t)\n",
        "      log_det = log_s.view(x1.shape[0], -1).sum(dim=1)\n",
        "      return ((y1, y2), log_det)"
      ],
      "execution_count": 0,
      "outputs": []
    },
    {
      "cell_type": "code",
      "metadata": {
        "colab_type": "code",
        "id": "BCjlhiS3p1OD",
        "outputId": "79e30b08-8478-4524-fed0-8163dd114cbc",
        "colab": {
          "base_uri": "https://localhost:8080/",
          "height": 69
        }
      },
      "source": [
        "for out in AffineCoupling(3)((torch.randn((5, 3, 32, 32)), torch.randn((5, 3, 32, 32))))[0]:\n",
        "  print(out.shape)\n",
        "AffineCoupling(3)((torch.randn((5, 3, 32, 32)), torch.randn((5, 3, 32, 32))))[1].shape"
      ],
      "execution_count": 9,
      "outputs": [
        {
          "output_type": "stream",
          "text": [
            "torch.Size([5, 3, 32, 32])\n",
            "torch.Size([5, 3, 32, 32])\n"
          ],
          "name": "stdout"
        },
        {
          "output_type": "execute_result",
          "data": {
            "text/plain": [
              "torch.Size([5])"
            ]
          },
          "metadata": {
            "tags": []
          },
          "execution_count": 9
        }
      ]
    },
    {
      "cell_type": "code",
      "metadata": {
        "colab_type": "code",
        "id": "xvDmdAJEq5Ka",
        "colab": {}
      },
      "source": [
        "class CelebA(nn.Module):\n",
        "  def __init__(self, ch_in):\n",
        "      super(CelebA, self).__init__()\n",
        "      self.prior = Normal(torch.tensor(0.).to(DEVICE), torch.tensor(1.).to(DEVICE))\n",
        "      self.couplings1 = torch.nn.ModuleList([AffineCoupling(ch_in) for _ in range(4)])\n",
        "      self.couplings2 = torch.nn.ModuleList([AffineCoupling(ch_in * 2) for _ in range(3)])\n",
        "      self.couplings3 = torch.nn.ModuleList([AffineCoupling(ch_in * 4) for _ in range(3)])\n",
        "      self.couplings4 = torch.nn.ModuleList([AffineCoupling(ch_in * 8) for _ in range(3)])\n",
        "      self.couplings5 = torch.nn.ModuleList([AffineCoupling(ch_in * 16) for _ in range(3)])\n",
        "\n",
        "  def build_mask(self, size, config=1.):\n",
        "      mask = np.arange(size).reshape(-1, 1) + np.arange(size)\n",
        "      mask = np.mod(config + mask, 2)\n",
        "      mask = mask.reshape(-1, 1, size, size)\n",
        "      return torch.tensor(mask.astype('float32'))\n",
        "\n",
        "  def flip_tuple(self, x):\n",
        "      (x1, x2) = x\n",
        "      return (x2, x1)\n",
        "\n",
        "  def checkerboard_split(self, x):\n",
        "      mask = self.build_mask(x.shape[2], config=0.).to(DEVICE)\n",
        "      return (x * mask, x * (1 - mask)) # TODO: is it correct split?\n",
        "\n",
        "  def inverse_checkerboard_split(self, x):\n",
        "      return x[0] + x[1] # TODO: is it correct split?\n",
        "\n",
        "  def squeeze(self, x):\n",
        "      x = x.permute(0, 2, 3, 1)\n",
        "      x = x.reshape(-1, x.shape[1] // 2, x.shape[2] // 2, 4 * x.shape[3])\n",
        "      x = x.permute(0, 3, 1, 2)\n",
        "      return x\n",
        "\n",
        "  def channel_split(self, x):\n",
        "      return torch.chunk(x, 2, dim=1)\n",
        "\n",
        "  def inverse_channel_split(self, x):\n",
        "      return torch.cat([x[0], x[1]], dim=1)\n",
        "\n",
        "  def forward(self, x):\n",
        "      log_det = 0\n",
        "\n",
        "      x = self.checkerboard_split(x) \n",
        "      for i in range(4):\n",
        "          x, log_det_temp = self.couplings1[i](x)\n",
        "          log_det += log_det_temp\n",
        "          x = self.flip_tuple(x)\n",
        "      x = self.inverse_checkerboard_split(x)\n",
        "      \n",
        "      x = self.squeeze(x)\n",
        "      \n",
        "      x = self.channel_split(x)\n",
        "      for i in range(3):\n",
        "          x, log_det_temp = self.couplings2[i](x)\n",
        "          log_det += log_det_temp\n",
        "          x = self.flip_tuple(x)\n",
        "      x = self.inverse_channel_split(x)\n",
        "\n",
        "      x = self.checkerboard_split(x)\n",
        "      for i in range(3):\n",
        "          x, log_det_temp = self.couplings3[i](x)\n",
        "          log_det += log_det_temp\n",
        "          x = self.flip_tuple(x)\n",
        "      x = self.inverse_checkerboard_split(x)\n",
        "      \n",
        "      x = self.squeeze(x)\n",
        "      \n",
        "      x = self.channel_split(x)\n",
        "      for i in range(3):\n",
        "          x, log_det_temp = self.couplings4[i](x)\n",
        "          log_det += log_det_temp\n",
        "          x = self.flip_tuple(x)\n",
        "      x = self.inverse_channel_split(x)\n",
        "\n",
        "      x = self.checkerboard_split(x)\n",
        "      for i in range(3):\n",
        "          x, log_det_temp = self.couplings5[i](x)\n",
        "          log_det += log_det_temp\n",
        "          x = self.flip_tuple(x)\n",
        "      x = self.inverse_checkerboard_split(x)\n",
        "\n",
        "      return x, log_det\n",
        "    \n",
        "  def log_prob(self, x):\n",
        "      z, log_det_J = self.forward(x)\n",
        "      log_prior_prob = torch.sum(self.prior.log_prob(z), dim=(1, 2, 3))\n",
        "      return log_prior_prob + log_det_J"
      ],
      "execution_count": 0,
      "outputs": []
    },
    {
      "cell_type": "code",
      "metadata": {
        "colab_type": "code",
        "id": "dxqVP0YuvjZR",
        "outputId": "125effa0-c735-440d-9a4e-d1789d0c3e22",
        "colab": {
          "base_uri": "https://localhost:8080/",
          "height": 52
        }
      },
      "source": [
        "CelebA(3).to(DEVICE).log_prob(torch.randn((5, 3, 32, 32)).to(DEVICE))"
      ],
      "execution_count": 11,
      "outputs": [
        {
          "output_type": "execute_result",
          "data": {
            "text/plain": [
              "tensor([-13920.4209, -16613.8516, -17973.2227, -14285.3105, -15574.7969],\n",
              "       device='cuda:0', grad_fn=<AddBackward0>)"
            ]
          },
          "metadata": {
            "tags": []
          },
          "execution_count": 11
        }
      ]
    },
    {
      "cell_type": "code",
      "metadata": {
        "colab_type": "code",
        "id": "71PK-B_5BdVv",
        "colab": {}
      },
      "source": [
        "def count_parameters():\n",
        "    model = CelebA(3)\n",
        "    return sum(p.numel() for p in model.parameters() if p.requires_grad)"
      ],
      "execution_count": 0,
      "outputs": []
    },
    {
      "cell_type": "code",
      "metadata": {
        "colab_type": "code",
        "id": "jZezxH4fBGag",
        "outputId": "1fcec681-b8cc-4347-8f85-b69dd9d34409",
        "colab": {
          "base_uri": "https://localhost:8080/",
          "height": 34
        }
      },
      "source": [
        "count_parameters()"
      ],
      "execution_count": 13,
      "outputs": [
        {
          "output_type": "execute_result",
          "data": {
            "text/plain": [
              "94326836"
            ]
          },
          "metadata": {
            "tags": []
          },
          "execution_count": 13
        }
      ]
    },
    {
      "cell_type": "code",
      "metadata": {
        "id": "-QHXpd4aIuxj",
        "colab_type": "code",
        "colab": {}
      },
      "source": [
        "def train(model, train_batch_size, test_batch_size, epochs_cnt, train_data=DATA['train'], test_data=DATA['test'], lr=5e-4):\n",
        "    dim_factor = torch.FloatTensor([3 * 32 * 32]).to(DEVICE)\n",
        "    log_factor = torch.log(torch.Tensor([2])).to(DEVICE)\n",
        "        \n",
        "    def loss_func(log_prob):\n",
        "        return -torch.mean(log_prob) / dim_factor / log_factor\n",
        "    \n",
        "    train_iter = DataLoader(train_data, batch_size=train_batch_size, shuffle=True)\n",
        "    val_iter = DataLoader(test_data, batch_size=test_batch_size, shuffle=False)\n",
        "    optimizer = torch.optim.Adam(MODEL.parameters(),lr=lr, weight_decay=0.0001)\n",
        "\n",
        "    losses, val_losses = [], []\n",
        "    for epoch in range(epochs_cnt):\n",
        "        loss = 0\n",
        "        tmp_losses = []\n",
        "        \n",
        "        model.train()\n",
        "        total_train_loss = 0\n",
        "        for batch in tqdm(train_iter):\n",
        "            batch = batch.to(DEVICE)\n",
        "            loss = loss_func(model.log_prob(batch))\n",
        "            loss.backward()\n",
        "            optimizer.step()\n",
        "            optimizer.zero_grad()\n",
        "            tmp_losses.append(loss.data.cpu().numpy())\n",
        "        losses.append(np.mean(tmp_losses))\n",
        "        \n",
        "        model.eval()\n",
        "        with torch.no_grad():\n",
        "            tmp_val_losses = []\n",
        "            for item in val_iter:\n",
        "                batch = batch.to(DEVICE)\n",
        "                val_loss = loss_func(model.log_prob(batch))\n",
        "                tmp_val_losses.append(val_loss.data.cpu().numpy())\n",
        "            val_losses.append(np.mean(tmp_val_losses))\n",
        "        if epoch % 1 ==0:\n",
        "            print('Epoch {}: loss {} val_loss {} '.format(epoch, np.mean(tmp_losses), np.mean(tmp_val_losses)))\n",
        "    return losses, val_losses"
      ],
      "execution_count": 0,
      "outputs": []
    },
    {
      "cell_type": "code",
      "metadata": {
        "id": "rKcVVV8TIuxq",
        "colab_type": "code",
        "colab": {}
      },
      "source": [
        "def plot_losses(losses, val_losses):\n",
        "    plt.plot(losses, label = \"train_loss\")\n",
        "    plt.plot(val_losses, label = \"val_loss\")\n",
        "    plt.legend()\n",
        "    plt.show()"
      ],
      "execution_count": 0,
      "outputs": []
    },
    {
      "cell_type": "code",
      "metadata": {
        "id": "Lt-yYlb9Iuxv",
        "colab_type": "code",
        "colab": {}
      },
      "source": [
        "TRAIN_BATCH_SIZE = 16\n",
        "TEST_BATCH_SIZE = 16\n",
        "EPOCHS_CNT = 4"
      ],
      "execution_count": 0,
      "outputs": []
    },
    {
      "cell_type": "code",
      "metadata": {
        "id": "ZWYNqaekLdRV",
        "colab_type": "code",
        "colab": {}
      },
      "source": [
        "MODEL = CelebA(3).to(DEVICE)"
      ],
      "execution_count": 0,
      "outputs": []
    },
    {
      "cell_type": "code",
      "metadata": {
        "id": "HRAk-rcpIux4",
        "colab_type": "code",
        "colab": {
          "base_uri": "https://localhost:8080/",
          "height": 532,
          "referenced_widgets": [
            "b608b9c992784ef892a5f73533768523",
            "6125ec8a292a49dbab78c570962e2ff0",
            "cddca824b5bf434e9319e6fac350acba",
            "a7130e7a3bae4f429c5d525780546589",
            "84810ec380ee4c45aa42956d3d6ca200",
            "faa20856a4d54b228e55465c087c83d4",
            "323ea4ef3ad04e1d89900bce9cf2aeb3",
            "099a4c2e801b490aa824a0c74680751a",
            "d8bf99165a5c4b4a8a310840db76c61b",
            "f9a08ed5928949c0adb8e711e9dd1f28",
            "3d0a5918682f41a99af93ee462faf4cd",
            "576ce48c590749cc9e292d6dd556cea2",
            "48e6265651874eed80a3ee04f19d73aa",
            "d0d67a4ff56647339490ddd0a603a7c7",
            "13a2274413994bb99db7a3646129c197",
            "b048bd84b3fa4a4685a801bf01982ca2",
            "53738fd6aa6347a5973593662decc91e",
            "3b8329ee40c24c5aa7c866f1e7b0b85b",
            "ae901d0d75ac48f8af3e8efcf9152234",
            "3570839b1a104bc4b22569d0cc72aa6c",
            "0127d4a609ce46149cd364f6dc55bdbc",
            "bf3eb1e5689440e39b1f7f8beef7bab5",
            "dd328bc9fe2c43f49c871fcbfb1abcf7",
            "8e11eea938b1493d99e3e7398c6cf438",
            "d122dd4017904202b0f60a6d63226d8e",
            "0d579de6cfa940a1aa44ed243447bb88",
            "e0140989b9e64f888c624caa20892cdc",
            "5a784f51002241c980d2745bf1304f0c",
            "aee9d20b1f924fc9a1b2872c9a3e429a",
            "5f82f14b957c42ecae254408225ce83e",
            "d934510631b34439830c3aa2cde19a94",
            "2f09348c9cf94c678018498b0b38fdac"
          ]
        },
        "outputId": "611ff394-27a9-439d-9ae7-c789936161be"
      },
      "source": [
        "TRAIN_LOSSES, VAL_LOSSES = train(MODEL, TRAIN_BATCH_SIZE, TEST_BATCH_SIZE, EPOCHS_CNT, train_data=DATA['train'][:160], test_data=DATA['test'][:32])\n",
        "plot_losses(TRAIN_LOSSES, VAL_LOSSES)"
      ],
      "execution_count": 18,
      "outputs": [
        {
          "output_type": "display_data",
          "data": {
            "application/vnd.jupyter.widget-view+json": {
              "model_id": "b608b9c992784ef892a5f73533768523",
              "version_minor": 0,
              "version_major": 2
            },
            "text/plain": [
              "HBox(children=(IntProgress(value=0, max=10), HTML(value='')))"
            ]
          },
          "metadata": {
            "tags": []
          }
        },
        {
          "output_type": "stream",
          "text": [
            "\n",
            "Epoch 0: loss 5.555062294006348 val_loss 2.9590840339660645 \n"
          ],
          "name": "stdout"
        },
        {
          "output_type": "display_data",
          "data": {
            "application/vnd.jupyter.widget-view+json": {
              "model_id": "d8bf99165a5c4b4a8a310840db76c61b",
              "version_minor": 0,
              "version_major": 2
            },
            "text/plain": [
              "HBox(children=(IntProgress(value=0, max=10), HTML(value='')))"
            ]
          },
          "metadata": {
            "tags": []
          }
        },
        {
          "output_type": "stream",
          "text": [
            "\n",
            "Epoch 1: loss 3.3011860847473145 val_loss 1.74991774559021 \n"
          ],
          "name": "stdout"
        },
        {
          "output_type": "display_data",
          "data": {
            "application/vnd.jupyter.widget-view+json": {
              "model_id": "53738fd6aa6347a5973593662decc91e",
              "version_minor": 0,
              "version_major": 2
            },
            "text/plain": [
              "HBox(children=(IntProgress(value=0, max=10), HTML(value='')))"
            ]
          },
          "metadata": {
            "tags": []
          }
        },
        {
          "output_type": "stream",
          "text": [
            "\n",
            "Epoch 2: loss 2.5875630378723145 val_loss 2.480959892272949 \n"
          ],
          "name": "stdout"
        },
        {
          "output_type": "display_data",
          "data": {
            "application/vnd.jupyter.widget-view+json": {
              "model_id": "d122dd4017904202b0f60a6d63226d8e",
              "version_minor": 0,
              "version_major": 2
            },
            "text/plain": [
              "HBox(children=(IntProgress(value=0, max=10), HTML(value='')))"
            ]
          },
          "metadata": {
            "tags": []
          }
        },
        {
          "output_type": "stream",
          "text": [
            "\n",
            "Epoch 3: loss 2.557392120361328 val_loss 0.8956937193870544 \n"
          ],
          "name": "stdout"
        },
        {
          "output_type": "display_data",
          "data": {
            "image/png": "[encoded data removed]",
            "text/plain": [
              "<Figure size 432x288 with 1 Axes>"
            ]
          },
          "metadata": {
            "tags": []
          }
        }
      ]
    },
    {
      "cell_type": "code",
      "metadata": {
        "id": "lSeqi_RZIuyA",
        "colab_type": "code",
        "colab": {}
      },
      "source": [
        ""
      ],
      "execution_count": 0,
      "outputs": []
    }
  ]
}