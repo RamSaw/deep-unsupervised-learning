{
  "nbformat": 4,
  "nbformat_minor": 0,
  "metadata": {
    "colab": {
      "name": "HW_03_T01_B.ipynb",
      "provenance": [],
      "collapsed_sections": [],
      "include_colab_link": true
    },
    "kernelspec": {
      "name": "python3",
      "display_name": "Python 3"
    },
    "accelerator": "GPU"
  },
  "cells": [
    {
      "cell_type": "markdown",
      "metadata": {
        "id": "view-in-github",
        "colab_type": "text"
      },
      "source": [
        "<a href=\"https://colab.research.google.com/github/RamSaw/deep-unsupervised-learning/blob/HW_03/HW_03_T01_B.ipynb\" target=\"_parent\"><img src=\"https://colab.research.google.com/assets/colab-badge.svg\" alt=\"Open In Colab\"/></a>"
      ]
    },
    {
      "cell_type": "code",
      "metadata": {
        "id": "VNbNw4zH_1rc",
        "colab_type": "code",
        "colab": {}
      },
      "source": [
        "!pip3 install wandb"
      ],
      "execution_count": 0,
      "outputs": []
    },
    {
      "cell_type": "code",
      "metadata": {
        "id": "p4nTUtn8lTMN",
        "colab_type": "code",
        "colab": {}
      },
      "source": [
        "import numpy as np\n",
        "import torch\n",
        "import random\n",
        "import os\n",
        "import matplotlib.pyplot as plt\n",
        "import matplotlib\n",
        "import torch \n",
        "import torch.nn as nn\n",
        "from torch.distributions import Normal, MultivariateNormal, Uniform\n",
        "import torch.nn.functional as F\n",
        "from sklearn.model_selection import train_test_split\n",
        "from torch.autograd import Variable\n",
        "import pickle\n",
        "from torch.utils.data import DataLoader\n",
        "import torchvision\n",
        "from matplotlib import pyplot as plt\n",
        "import time"
      ],
      "execution_count": 0,
      "outputs": []
    },
    {
      "cell_type": "code",
      "metadata": {
        "id": "NdmWrsGq9EXB",
        "colab_type": "code",
        "outputId": "bc1e4a4f-fbfb-4b98-ee80-a223c3105c6f",
        "colab": {
          "base_uri": "https://localhost:8080/",
          "height": 124
        }
      },
      "source": [
        "from google.colab import drive\n",
        "drive.mount('./gdrive')"
      ],
      "execution_count": 3,
      "outputs": [
        {
          "output_type": "stream",
          "text": [
            "Go to this URL in a browser: https://accounts.google.com/o/oauth2/auth?client_id=947318989803-6bn6qk8qdgf4n4g3pfee6491hc0brc4i.apps.googleusercontent.com&redirect_uri=urn%3aietf%3awg%3aoauth%3a2.0%3aoob&response_type=code&scope=email%20https%3a%2f%2fwww.googleapis.com%2fauth%2fdocs.test%20https%3a%2f%2fwww.googleapis.com%2fauth%2fdrive%20https%3a%2f%2fwww.googleapis.com%2fauth%2fdrive.photos.readonly%20https%3a%2f%2fwww.googleapis.com%2fauth%2fpeopleapi.readonly\n",
            "\n",
            "Enter your authorization code:\n",
            "··········\n",
            "Mounted at ./gdrive\n"
          ],
          "name": "stdout"
        }
      ]
    },
    {
      "cell_type": "code",
      "metadata": {
        "id": "TNQY8TuEAZcO",
        "colab_type": "code",
        "colab": {}
      },
      "source": [
        "MODEL_SAVE_PATH = './gdrive/My Drive/VAE.pt'"
      ],
      "execution_count": 0,
      "outputs": []
    },
    {
      "cell_type": "code",
      "metadata": {
        "id": "CCgQuJ_s_8bj",
        "colab_type": "code",
        "outputId": "a566517b-bc5b-48cf-b783-335a0eaf50a3",
        "colab": {
          "base_uri": "https://localhost:8080/",
          "height": 173
        }
      },
      "source": [
        "!wandb login"
      ],
      "execution_count": 5,
      "outputs": [
        {
          "output_type": "stream",
          "text": [
            "\u001b[34m\u001b[1mwandb\u001b[0m: (1) Create a W&B account\n",
            "\u001b[34m\u001b[1mwandb\u001b[0m: (2) Use an existing W&B account\n",
            "\u001b[34m\u001b[1mwandb\u001b[0m: (3) Don't visualize my results\n",
            "\u001b[34m\u001b[1mwandb\u001b[0m: Enter your choice: 2\n",
            "\u001b[34m\u001b[1mwandb\u001b[0m: You chose 'Use an existing W&B account'\n",
            "\u001b[34m\u001b[1mwandb\u001b[0m: You can find your API key in your browser here: https://app.wandb.ai/authorize\n",
            "\u001b[34m\u001b[1mwandb\u001b[0m: Paste an API key from your profile and hit enter: 2377ef66e63c2eda02e1d83797d0cc73170988c7\n",
            "\u001b[34m\u001b[1mwandb\u001b[0m: Appending key for api.wandb.ai to your netrc file: /root/.netrc\n",
            "\u001b[32mSuccessfully logged in to Weights & Biases!\u001b[0m\n"
          ],
          "name": "stdout"
        }
      ]
    },
    {
      "cell_type": "code",
      "metadata": {
        "id": "nn6NkD8_AVVD",
        "colab_type": "code",
        "outputId": "e0f813a7-fdca-42c3-bb24-48e0ac46fa74",
        "colab": {
          "base_uri": "https://localhost:8080/",
          "height": 86
        }
      },
      "source": [
        "import wandb\n",
        "wandb.init(project=\"dul\")"
      ],
      "execution_count": 6,
      "outputs": [
        {
          "output_type": "display_data",
          "data": {
            "text/html": [
              "\n",
              "                Logging results to <a href=\"https://wandb.com\" target=\"_blank\">Weights & Biases</a> <a href=\"https://docs.wandb.com/integrations/jupyter.html\" target=\"_blank\">(Documentation)</a>.<br/>\n",
              "                Project page: <a href=\"https://app.wandb.ai/ram_saw/dul\" target=\"_blank\">https://app.wandb.ai/ram_saw/dul</a><br/>\n",
              "                Run page: <a href=\"https://app.wandb.ai/ram_saw/dul/runs/zkunk036\" target=\"_blank\">https://app.wandb.ai/ram_saw/dul/runs/zkunk036</a><br/>\n",
              "            "
            ],
            "text/plain": [
              "<IPython.core.display.HTML object>"
            ]
          },
          "metadata": {
            "tags": []
          }
        },
        {
          "output_type": "execute_result",
          "data": {
            "text/plain": [
              "W&B Run: https://app.wandb.ai/ram_saw/dul/runs/zkunk036"
            ]
          },
          "metadata": {
            "tags": []
          },
          "execution_count": 6
        }
      ]
    },
    {
      "cell_type": "code",
      "metadata": {
        "id": "_Sp-SkZTlZwz",
        "colab_type": "code",
        "outputId": "0c734699-5142-46fb-b860-1c04a62d7ff9",
        "colab": {
          "base_uri": "https://localhost:8080/",
          "height": 34
        }
      },
      "source": [
        "def make_reproducible(seed, make_cuda_reproducible):\n",
        "    random.seed(seed)\n",
        "    os.environ['PYTHONHASHSEED'] = str(seed)\n",
        "    np.random.seed(seed)\n",
        "    torch.manual_seed(seed)\n",
        "    if make_cuda_reproducible:\n",
        "        torch.backends.cudnn.deterministic = True\n",
        "        torch.backends.cudnn.benchmark = False\n",
        "\n",
        "SEED = 2341\n",
        "make_reproducible(SEED, False)\n",
        "DEVICE = torch.device('cuda' if torch.cuda.is_available() else 'cpu')\n",
        "print(DEVICE)"
      ],
      "execution_count": 7,
      "outputs": [
        {
          "output_type": "stream",
          "text": [
            "cuda\n"
          ],
          "name": "stdout"
        }
      ]
    },
    {
      "cell_type": "code",
      "metadata": {
        "id": "s9lnkmP1lcZI",
        "colab_type": "code",
        "colab": {}
      },
      "source": [
        "def sample_data_3():\n",
        "    count = 100000\n",
        "    rand = np.random.RandomState(0)\n",
        "    a = [[-1.5, 2.5]] + rand.randn(count // 3, 2) * 0.2\n",
        "    b = [[1.5, 2.5]] + rand.randn(count // 3, 2) * 0.2\n",
        "    c = np.c_[2 * np.cos(np.linspace(0, np.pi, count // 3)),\n",
        "    -np.sin(np.linspace(0, np.pi, count // 3))]\n",
        "\n",
        "    c += rand.randn(*c.shape) * 0.2\n",
        "    data_x = np.concatenate([a, b, c], axis=0)\n",
        "    data_y = np.array([0] * len(a) + [1] * len(b) + [2] * len(c))\n",
        "    perm = rand.permutation(len(data_x))\n",
        "    return data_x[perm], data_y[perm]"
      ],
      "execution_count": 0,
      "outputs": []
    },
    {
      "cell_type": "code",
      "metadata": {
        "id": "9BA6Br7pp6_f",
        "colab_type": "code",
        "colab": {}
      },
      "source": [
        "def print_data_info(X, y, label):\n",
        "    print(f'Data info for {label}')\n",
        "    print(X.shape)\n",
        "    print(y.shape)\n",
        "    print(X[1])\n",
        "    print(y[1])\n",
        "    plt.scatter(X[:, 0], X[:, 1], c=y, cmap=matplotlib.colors.ListedColormap(['red','green','blue']))\n",
        "    plt.show()"
      ],
      "execution_count": 0,
      "outputs": []
    },
    {
      "cell_type": "code",
      "metadata": {
        "id": "Yms04gyRqCZv",
        "colab_type": "code",
        "outputId": "697918d4-74e5-4197-ff50-429b512727dd",
        "colab": {
          "base_uri": "https://localhost:8080/",
          "height": 352
        }
      },
      "source": [
        "X, Y = sample_data_3()\n",
        "print_data_info(X, Y, 'all dataset')"
      ],
      "execution_count": 10,
      "outputs": [
        {
          "output_type": "stream",
          "text": [
            "Data info for all dataset\n",
            "(99999, 2)\n",
            "(99999,)\n",
            "[-1.91759247 -0.12925264]\n",
            "2\n"
          ],
          "name": "stdout"
        },
        {
          "output_type": "display_data",
          "data": {
            "image/png": "[encoded data removed]",
            "text/plain": [
              "<Figure size 432x288 with 1 Axes>"
            ]
          },
          "metadata": {
            "tags": []
          }
        }
      ]
    },
    {
      "cell_type": "code",
      "metadata": {
        "id": "ieNcMtruqGWx",
        "colab_type": "code",
        "outputId": "86f9b964-7539-4f6f-bb93-40b5e662fe71",
        "colab": {
          "base_uri": "https://localhost:8080/",
          "height": 687
        }
      },
      "source": [
        "X_TRAIN, X_TEST, Y_TRAIN, Y_TEST = train_test_split(X, Y, test_size=0.2, random_state=SEED)\n",
        "X_TRAIN, X_TEST, Y_TRAIN, Y_TEST = torch.FloatTensor(X_TRAIN), torch.FloatTensor(X_TEST), torch.FloatTensor(Y_TRAIN), torch.FloatTensor(Y_TEST)\n",
        "print_data_info(X_TRAIN, Y_TRAIN, 'train')\n",
        "print_data_info(X_TEST, Y_TEST, 'test')"
      ],
      "execution_count": 11,
      "outputs": [
        {
          "output_type": "stream",
          "text": [
            "Data info for train\n",
            "torch.Size([79999, 2])\n",
            "torch.Size([79999])\n",
            "tensor([-1.8588, -0.3814])\n",
            "tensor(2.)\n"
          ],
          "name": "stdout"
        },
        {
          "output_type": "display_data",
          "data": {
            "image/png": "[encoded data removed]",
            "text/plain": [
              "<Figure size 432x288 with 1 Axes>"
            ]
          },
          "metadata": {
            "tags": []
          }
        },
        {
          "output_type": "stream",
          "text": [
            "Data info for test\n",
            "torch.Size([20000, 2])\n",
            "torch.Size([20000])\n",
            "tensor([ 1.5242, -0.3453])\n",
            "tensor(2.)\n"
          ],
          "name": "stdout"
        },
        {
          "output_type": "display_data",
          "data": {
            "image/png": "[encoded data removed]",
            "text/plain": [
              "<Figure size 432x288 with 1 Axes>"
            ]
          },
          "metadata": {
            "tags": []
          }
        }
      ]
    },
    {
      "cell_type": "code",
      "metadata": {
        "id": "6CUlUSDWqSYH",
        "colab_type": "code",
        "outputId": "97f2f864-7eb1-407c-bbd5-624cb83c21ff",
        "colab": {
          "base_uri": "https://localhost:8080/",
          "height": 52
        }
      },
      "source": [
        "X_Y_TRAIN = torch.cat((X_TRAIN, Y_TRAIN.unsqueeze(1)), dim=1)\n",
        "X_Y_TEST = torch.cat((X_TEST, Y_TEST.unsqueeze(1)), dim=1)\n",
        "print(X_Y_TRAIN.shape)\n",
        "print(X_Y_TEST.shape)"
      ],
      "execution_count": 12,
      "outputs": [
        {
          "output_type": "stream",
          "text": [
            "torch.Size([79999, 3])\n",
            "torch.Size([20000, 3])\n"
          ],
          "name": "stdout"
        }
      ]
    },
    {
      "cell_type": "code",
      "metadata": {
        "id": "i1irZNDvqb59",
        "colab_type": "code",
        "colab": {}
      },
      "source": [
        "class IsotropicNormal(nn.Module):\n",
        "    def __init__(self, n_layers=5, n_features=512):\n",
        "        super(IsotropicNormal, self).__init__()\n",
        "        self.n_features = n_features\n",
        "        self.n_layers = n_layers\n",
        "        self.layers = nn.ModuleList()\n",
        "        \n",
        "        self.inlayer = nn.Linear(2, self.n_features)\n",
        "        for i in range(n_layers - 2):\n",
        "            self.layers.append(nn.Linear(n_features, self.n_features))\n",
        "        self.outlayer = nn.Linear(self.n_features, 4)\n",
        "            \n",
        "    def forward(self, x):\n",
        "        x = torch.relu(self.inlayer(x))\n",
        "        for layer in self.layers:\n",
        "            x = torch.relu(layer(x)) + x\n",
        "        z = self.outlayer(x)\n",
        "        mu, log_var = torch.split(z, 2, dim=1)\n",
        "        var = torch.exp(log_var)\n",
        "        return mu, var"
      ],
      "execution_count": 0,
      "outputs": []
    },
    {
      "cell_type": "code",
      "metadata": {
        "id": "oASYnTH7rAho",
        "colab_type": "code",
        "colab": {}
      },
      "source": [
        "class VAE(nn.Module):\n",
        "    def __init__(self):\n",
        "        super(VAE, self).__init__()\n",
        "        self.encoder = IsotropicNormal()\n",
        "        self.decoder = IsotropicNormal()\n",
        "        self.prior = MultivariateNormal(torch.zeros(2), torch.diag_embed(torch.ones(2)))\n",
        "    \n",
        "    def forward(self, x):\n",
        "        mu_z, var_z = self.encode(x)\n",
        "        z = self.sample_normal(mu_z, var_z)\n",
        "        mu_x, var_x = self.decode(z)\n",
        "        return mu_z, var_z, z, mu_x, var_x\n",
        "      \n",
        "    def loss(self, x):\n",
        "        mu_z, var_z, z, mu_x, var_x = self.forward(x)\n",
        "        nll = torch.sum(-0.5 * (torch.log(np.pi * 2 * var_x) + torch.pow(x - mu_x, 2) / var_x), dim=1, keepdim=True)\n",
        "        nll = -torch.sum(nll, dim=1, keepdim=True)\n",
        "        kl_divergence = 1.0 + torch.log(var_z) - torch.pow(mu_z, 2) - var_z\n",
        "        kl_divergence = -0.5 * torch.sum(kl_divergence, dim=1, keepdim=True)\n",
        "        return nll, kl_divergence\n",
        "\n",
        "    def encode(self, x):\n",
        "        return self.encoder(x)\n",
        "\n",
        "    def sample(self, n):\n",
        "        z = self.prior.rsample((n,)).to(DEVICE)\n",
        "        mu_x, var_x = self.decode(z)\n",
        "        x = self.sample_normal(mu_x, var_x)\n",
        "        return x, mu_x, var_x\n",
        "\n",
        "    def sample_normal(self, mu, var):\n",
        "      return mu + torch.randn(mu.shape).cuda() * torch.sqrt(var)\n",
        "\n",
        "    def decode(self, z):\n",
        "        return self.decoder(z)"
      ],
      "execution_count": 0,
      "outputs": []
    },
    {
      "cell_type": "code",
      "metadata": {
        "id": "d8foH71hrQav",
        "colab_type": "code",
        "colab": {}
      },
      "source": [
        "def train(vae, train_data, test_data, epochs_cnt=400, lr=1e-3, batch_size=10000, val_steps=4, start_epoch=0):\n",
        "    optimizer = torch.optim.Adam(vae.parameters(), lr=lr)\n",
        "    dataloader = DataLoader(train_data, batch_size=batch_size, shuffle=True)\n",
        "    val_data = test_data.to(DEVICE)\n",
        "\n",
        "    nll_values = {'train': [], 'val': []}\n",
        "    kl_divergence_values = {'train': [], 'val': []}\n",
        "    vlb_values = {'train': [], 'val': []}\n",
        "\n",
        "    step = 0\n",
        "    start = time.time()\n",
        "    for i in range(start_epoch, epochs_cnt):\n",
        "        for batch in dataloader:\n",
        "            vae.train()\n",
        "            step += 1\n",
        "            batch = batch.to(DEVICE)\n",
        "            nll, kl_divergence = vae.loss(batch)\n",
        "            loss = torch.mean(nll + kl_divergence)\n",
        "\n",
        "            optimizer.zero_grad()\n",
        "            loss.backward()\n",
        "            torch.nn.utils.clip_grad_norm_(vae.parameters(), 1.0)\n",
        "            optimizer.step()\n",
        "\n",
        "            nll_values['train'].append(torch.mean(nll).detach().item() / 2.0 / np.log(2))\n",
        "            kl_divergence_values['train'].append(torch.mean(kl_divergence).detach().item())\n",
        "            vlb_values['train'].append(torch.mean(-loss).detach().item())\n",
        "            wandb.log({\n",
        "                'nll_train': nll_values['train'][-1],\n",
        "                'kl_divergence_train': kl_divergence_values['train'][-1],\n",
        "                'vlb_train': vlb_values['train'][-1]\n",
        "            })\n",
        "            if step % val_steps == 0:\n",
        "                vae.eval()\n",
        "                with torch.no_grad():\n",
        "                    nll, kl_divergence = vae.loss(val_data)\n",
        "                    loss = torch.mean(nll + kl_divergence)\n",
        "                    nll_values['val'].append(torch.mean(nll).detach().item() / 2.0 / np.log(2))\n",
        "                    kl_divergence_values['val'].append(torch.mean(kl_divergence).detach().item())\n",
        "                    vlb_values['val'].append(torch.mean(-loss).detach().item())\n",
        "                    wandb.log({\n",
        "                        'nll_val': nll_values['val'][-1],\n",
        "                        'kl_divergence_val': kl_divergence_values['val'][-1],\n",
        "                        'vlb_val': vlb_values['val'][-1]\n",
        "                    })\n",
        "                #print(f\"Train loss: {nll_values['train'][-1]} {kl_divergence_values['train'][-1]} {vlb_values['train'][-1]}\")\n",
        "                #print(f\"Val loss: {nll_values['val'][-1]} {kl_divergence_values['val'][-1]} {vlb_values['val'][-1]}\")\n",
        "                vae.train()\n",
        "        if (i + 1) % 100 == 0:\n",
        "            end = time.time()\n",
        "            print(f'Model saved in {i + 1} epoch')\n",
        "            print(f'Elapsed time: {end - start}')\n",
        "            start = end\n",
        "            torch.save(vae.state_dict(), MODEL_SAVE_PATH)\n",
        "    return nll_values, kl_divergence_values, vlb_values"
      ],
      "execution_count": 0,
      "outputs": []
    },
    {
      "cell_type": "code",
      "metadata": {
        "id": "3yEYyR0huA1z",
        "colab_type": "code",
        "colab": {}
      },
      "source": [
        "MODEL = VAE().to(DEVICE)"
      ],
      "execution_count": 0,
      "outputs": []
    },
    {
      "cell_type": "code",
      "metadata": {
        "id": "NLIMYI1YJuOV",
        "colab_type": "code",
        "colab": {
          "base_uri": "https://localhost:8080/",
          "height": 34
        },
        "outputId": "824e8dec-e323-42e0-e472-adccf85789d5"
      },
      "source": [
        "MODEL.load_state_dict(torch.load(MODEL_SAVE_PATH))"
      ],
      "execution_count": 17,
      "outputs": [
        {
          "output_type": "execute_result",
          "data": {
            "text/plain": [
              "<All keys matched successfully>"
            ]
          },
          "metadata": {
            "tags": []
          },
          "execution_count": 17
        }
      ]
    },
    {
      "cell_type": "code",
      "metadata": {
        "id": "R36olD1JJtOp",
        "colab_type": "code",
        "colab": {
          "base_uri": "https://localhost:8080/",
          "height": 993
        },
        "outputId": "a7cc7ad0-8fbd-4d8e-db16-50bde2de39f4"
      },
      "source": [
        "NLL, KL_DIVERGENCE, VLB = train(MODEL, X_TRAIN, X_TEST, epochs_cnt=10000, lr=2e-4, batch_size=10000, val_steps=4, start_epoch=3100)"
      ],
      "execution_count": 20,
      "outputs": [
        {
          "output_type": "stream",
          "text": [
            "Model saved in 3200 epoch\n",
            "Elapsed time: 56.71619367599487\n",
            "Model saved in 3300 epoch\n",
            "Elapsed time: 56.49631929397583\n",
            "Model saved in 3400 epoch\n",
            "Elapsed time: 56.787978410720825\n",
            "Model saved in 3500 epoch\n",
            "Elapsed time: 56.849791288375854\n",
            "Model saved in 3600 epoch\n",
            "Elapsed time: 56.60458016395569\n",
            "Model saved in 3700 epoch\n",
            "Elapsed time: 58.740559816360474\n",
            "Model saved in 3800 epoch\n",
            "Elapsed time: 57.780029296875\n",
            "Model saved in 3900 epoch\n",
            "Elapsed time: 57.79210376739502\n",
            "Model saved in 4000 epoch\n",
            "Elapsed time: 57.429606437683105\n",
            "Model saved in 4100 epoch\n",
            "Elapsed time: 57.5172483921051\n",
            "Model saved in 4200 epoch\n",
            "Elapsed time: 57.767531394958496\n",
            "Model saved in 4300 epoch\n",
            "Elapsed time: 57.60856795310974\n",
            "Model saved in 4400 epoch\n",
            "Elapsed time: 57.69687294960022\n",
            "Model saved in 4500 epoch\n",
            "Elapsed time: 57.951160192489624\n",
            "Model saved in 4600 epoch\n",
            "Elapsed time: 57.25567054748535\n",
            "Model saved in 4700 epoch\n",
            "Elapsed time: 57.65933346748352\n",
            "Model saved in 4800 epoch\n",
            "Elapsed time: 57.6028413772583\n",
            "Model saved in 4900 epoch\n",
            "Elapsed time: 57.31825113296509\n",
            "Model saved in 5000 epoch\n",
            "Elapsed time: 57.40487718582153\n"
          ],
          "name": "stdout"
        },
        {
          "output_type": "error",
          "ename": "KeyboardInterrupt",
          "evalue": "ignored",
          "traceback": [
            "\u001b[0;31m---------------------------------------------------------------------------\u001b[0m",
            "\u001b[0;31mKeyboardInterrupt\u001b[0m                         Traceback (most recent call last)",
            "\u001b[0;32m<ipython-input-20-f5373b4f67b9>\u001b[0m in \u001b[0;36m<module>\u001b[0;34m()\u001b[0m\n\u001b[0;32m----> 1\u001b[0;31m \u001b[0mNLL\u001b[0m\u001b[0;34m,\u001b[0m \u001b[0mKL_DIVERGENCE\u001b[0m\u001b[0;34m,\u001b[0m \u001b[0mVLB\u001b[0m \u001b[0;34m=\u001b[0m \u001b[0mtrain\u001b[0m\u001b[0;34m(\u001b[0m\u001b[0mMODEL\u001b[0m\u001b[0;34m,\u001b[0m \u001b[0mX_TRAIN\u001b[0m\u001b[0;34m,\u001b[0m \u001b[0mX_TEST\u001b[0m\u001b[0;34m,\u001b[0m \u001b[0mepochs_cnt\u001b[0m\u001b[0;34m=\u001b[0m\u001b[0;36m10000\u001b[0m\u001b[0;34m,\u001b[0m \u001b[0mlr\u001b[0m\u001b[0;34m=\u001b[0m\u001b[0;36m2e-4\u001b[0m\u001b[0;34m,\u001b[0m \u001b[0mbatch_size\u001b[0m\u001b[0;34m=\u001b[0m\u001b[0;36m10000\u001b[0m\u001b[0;34m,\u001b[0m \u001b[0mval_steps\u001b[0m\u001b[0;34m=\u001b[0m\u001b[0;36m4\u001b[0m\u001b[0;34m,\u001b[0m \u001b[0mstart_epoch\u001b[0m\u001b[0;34m=\u001b[0m\u001b[0;36m3100\u001b[0m\u001b[0;34m)\u001b[0m\u001b[0;34m\u001b[0m\u001b[0;34m\u001b[0m\u001b[0m\n\u001b[0m",
            "\u001b[0;32m<ipython-input-15-2e74a71a9bcb>\u001b[0m in \u001b[0;36mtrain\u001b[0;34m(vae, train_data, test_data, epochs_cnt, lr, batch_size, val_steps, start_epoch)\u001b[0m\n\u001b[1;32m     11\u001b[0m     \u001b[0mstart\u001b[0m \u001b[0;34m=\u001b[0m \u001b[0mtime\u001b[0m\u001b[0;34m.\u001b[0m\u001b[0mtime\u001b[0m\u001b[0;34m(\u001b[0m\u001b[0;34m)\u001b[0m\u001b[0;34m\u001b[0m\u001b[0;34m\u001b[0m\u001b[0m\n\u001b[1;32m     12\u001b[0m     \u001b[0;32mfor\u001b[0m \u001b[0mi\u001b[0m \u001b[0;32min\u001b[0m \u001b[0mrange\u001b[0m\u001b[0;34m(\u001b[0m\u001b[0mstart_epoch\u001b[0m\u001b[0;34m,\u001b[0m \u001b[0mepochs_cnt\u001b[0m\u001b[0;34m)\u001b[0m\u001b[0;34m:\u001b[0m\u001b[0;34m\u001b[0m\u001b[0;34m\u001b[0m\u001b[0m\n\u001b[0;32m---> 13\u001b[0;31m         \u001b[0;32mfor\u001b[0m \u001b[0mbatch\u001b[0m \u001b[0;32min\u001b[0m \u001b[0mdataloader\u001b[0m\u001b[0;34m:\u001b[0m\u001b[0;34m\u001b[0m\u001b[0;34m\u001b[0m\u001b[0m\n\u001b[0m\u001b[1;32m     14\u001b[0m             \u001b[0mvae\u001b[0m\u001b[0;34m.\u001b[0m\u001b[0mtrain\u001b[0m\u001b[0;34m(\u001b[0m\u001b[0;34m)\u001b[0m\u001b[0;34m\u001b[0m\u001b[0;34m\u001b[0m\u001b[0m\n\u001b[1;32m     15\u001b[0m             \u001b[0mstep\u001b[0m \u001b[0;34m+=\u001b[0m \u001b[0;36m1\u001b[0m\u001b[0;34m\u001b[0m\u001b[0;34m\u001b[0m\u001b[0m\n",
            "\u001b[0;32m/usr/local/lib/python3.6/dist-packages/torch/utils/data/dataloader.py\u001b[0m in \u001b[0;36m__next__\u001b[0;34m(self)\u001b[0m\n\u001b[1;32m    343\u001b[0m \u001b[0;34m\u001b[0m\u001b[0m\n\u001b[1;32m    344\u001b[0m     \u001b[0;32mdef\u001b[0m \u001b[0m__next__\u001b[0m\u001b[0;34m(\u001b[0m\u001b[0mself\u001b[0m\u001b[0;34m)\u001b[0m\u001b[0;34m:\u001b[0m\u001b[0;34m\u001b[0m\u001b[0;34m\u001b[0m\u001b[0m\n\u001b[0;32m--> 345\u001b[0;31m         \u001b[0mindex\u001b[0m \u001b[0;34m=\u001b[0m \u001b[0mself\u001b[0m\u001b[0;34m.\u001b[0m\u001b[0m_next_index\u001b[0m\u001b[0;34m(\u001b[0m\u001b[0;34m)\u001b[0m  \u001b[0;31m# may raise StopIteration\u001b[0m\u001b[0;34m\u001b[0m\u001b[0;34m\u001b[0m\u001b[0m\n\u001b[0m\u001b[1;32m    346\u001b[0m         \u001b[0mdata\u001b[0m \u001b[0;34m=\u001b[0m \u001b[0mself\u001b[0m\u001b[0;34m.\u001b[0m\u001b[0m_dataset_fetcher\u001b[0m\u001b[0;34m.\u001b[0m\u001b[0mfetch\u001b[0m\u001b[0;34m(\u001b[0m\u001b[0mindex\u001b[0m\u001b[0;34m)\u001b[0m  \u001b[0;31m# may raise StopIteration\u001b[0m\u001b[0;34m\u001b[0m\u001b[0;34m\u001b[0m\u001b[0m\n\u001b[1;32m    347\u001b[0m         \u001b[0;32mif\u001b[0m \u001b[0mself\u001b[0m\u001b[0;34m.\u001b[0m\u001b[0m_pin_memory\u001b[0m\u001b[0;34m:\u001b[0m\u001b[0;34m\u001b[0m\u001b[0;34m\u001b[0m\u001b[0m\n",
            "\u001b[0;32m/usr/local/lib/python3.6/dist-packages/torch/utils/data/dataloader.py\u001b[0m in \u001b[0;36m_next_index\u001b[0;34m(self)\u001b[0m\n\u001b[1;32m    316\u001b[0m \u001b[0;34m\u001b[0m\u001b[0m\n\u001b[1;32m    317\u001b[0m     \u001b[0;32mdef\u001b[0m \u001b[0m_next_index\u001b[0m\u001b[0;34m(\u001b[0m\u001b[0mself\u001b[0m\u001b[0;34m)\u001b[0m\u001b[0;34m:\u001b[0m\u001b[0;34m\u001b[0m\u001b[0;34m\u001b[0m\u001b[0m\n\u001b[0;32m--> 318\u001b[0;31m         \u001b[0;32mreturn\u001b[0m \u001b[0mnext\u001b[0m\u001b[0;34m(\u001b[0m\u001b[0mself\u001b[0m\u001b[0;34m.\u001b[0m\u001b[0m_sampler_iter\u001b[0m\u001b[0;34m)\u001b[0m  \u001b[0;31m# may raise StopIteration\u001b[0m\u001b[0;34m\u001b[0m\u001b[0;34m\u001b[0m\u001b[0m\n\u001b[0m\u001b[1;32m    319\u001b[0m \u001b[0;34m\u001b[0m\u001b[0m\n\u001b[1;32m    320\u001b[0m     \u001b[0;32mdef\u001b[0m \u001b[0m__next__\u001b[0m\u001b[0;34m(\u001b[0m\u001b[0mself\u001b[0m\u001b[0;34m)\u001b[0m\u001b[0;34m:\u001b[0m\u001b[0;34m\u001b[0m\u001b[0;34m\u001b[0m\u001b[0m\n",
            "\u001b[0;32m/usr/local/lib/python3.6/dist-packages/torch/utils/data/sampler.py\u001b[0m in \u001b[0;36m__iter__\u001b[0;34m(self)\u001b[0m\n\u001b[1;32m    199\u001b[0m         \u001b[0mbatch\u001b[0m \u001b[0;34m=\u001b[0m \u001b[0;34m[\u001b[0m\u001b[0;34m]\u001b[0m\u001b[0;34m\u001b[0m\u001b[0;34m\u001b[0m\u001b[0m\n\u001b[1;32m    200\u001b[0m         \u001b[0;32mfor\u001b[0m \u001b[0midx\u001b[0m \u001b[0;32min\u001b[0m \u001b[0mself\u001b[0m\u001b[0;34m.\u001b[0m\u001b[0msampler\u001b[0m\u001b[0;34m:\u001b[0m\u001b[0;34m\u001b[0m\u001b[0;34m\u001b[0m\u001b[0m\n\u001b[0;32m--> 201\u001b[0;31m             \u001b[0mbatch\u001b[0m\u001b[0;34m.\u001b[0m\u001b[0mappend\u001b[0m\u001b[0;34m(\u001b[0m\u001b[0midx\u001b[0m\u001b[0;34m)\u001b[0m\u001b[0;34m\u001b[0m\u001b[0;34m\u001b[0m\u001b[0m\n\u001b[0m\u001b[1;32m    202\u001b[0m             \u001b[0;32mif\u001b[0m \u001b[0mlen\u001b[0m\u001b[0;34m(\u001b[0m\u001b[0mbatch\u001b[0m\u001b[0;34m)\u001b[0m \u001b[0;34m==\u001b[0m \u001b[0mself\u001b[0m\u001b[0;34m.\u001b[0m\u001b[0mbatch_size\u001b[0m\u001b[0;34m:\u001b[0m\u001b[0;34m\u001b[0m\u001b[0;34m\u001b[0m\u001b[0m\n\u001b[1;32m    203\u001b[0m                 \u001b[0;32myield\u001b[0m \u001b[0mbatch\u001b[0m\u001b[0;34m\u001b[0m\u001b[0;34m\u001b[0m\u001b[0m\n",
            "\u001b[0;31mKeyboardInterrupt\u001b[0m: "
          ]
        }
      ]
    },
    {
      "cell_type": "code",
      "metadata": {
        "id": "xuFvzYXhuRsg",
        "colab_type": "code",
        "colab": {}
      },
      "source": [
        "def plot_losses(train_losses, val_losses, label, val_steps):\n",
        "    plt.title(label)\n",
        "    plt.plot(np.arange(1, len(train_losses) + 1), train_losses, label='Train')\n",
        "    plt.plot(np.arange(1, len(val_losses) + 1) * val_steps, val_losses, label='Validation')\n",
        "    plt.legend()\n",
        "    plt.show()"
      ],
      "execution_count": 0,
      "outputs": []
    },
    {
      "cell_type": "code",
      "metadata": {
        "id": "rIgjHbSgvZBI",
        "colab_type": "code",
        "colab": {}
      },
      "source": [
        "plot_losses(NLL['train'], NLL['val'], 'Decoder Term', 4)"
      ],
      "execution_count": 0,
      "outputs": []
    },
    {
      "cell_type": "code",
      "metadata": {
        "id": "rgdA6rg6vdVs",
        "colab_type": "code",
        "colab": {}
      },
      "source": [
        "plot_losses(KL_DIVERGENCE['train'], KL_DIVERGENCE['val'], 'KL Divergence', 4)"
      ],
      "execution_count": 0,
      "outputs": []
    },
    {
      "cell_type": "code",
      "metadata": {
        "id": "ZJJpVd3kybb9",
        "colab_type": "code",
        "colab": {}
      },
      "source": [
        "plot_losses(VLB['train'], VLB['val'], 'Variational Lower Bound', 4)"
      ],
      "execution_count": 0,
      "outputs": []
    },
    {
      "cell_type": "code",
      "metadata": {
        "id": "2OqoLTAjys-q",
        "colab_type": "code",
        "colab": {}
      },
      "source": [
        "def draw_vae_samples(vae_model, n):\n",
        "    x, mu_x, var_x = vae_model.sample(n)\n",
        "    x = x.cpu().detach().numpy()\n",
        "    mu_x = mu_x.cpu().detach().numpy()\n",
        "    plt.scatter(x[:, 0], x[:, 1], marker='.', label=\"Samples From Full Generation Path\")\n",
        "    plt.scatter(mu_x[:, 0], mu_x[:, 1], marker='.', label=\"Without Decoder Noise\")\n",
        "    plt.legend()"
      ],
      "execution_count": 0,
      "outputs": []
    },
    {
      "cell_type": "code",
      "metadata": {
        "id": "NatErDWW0ARM",
        "colab_type": "code",
        "colab": {
          "base_uri": "https://localhost:8080/",
          "height": 265
        },
        "outputId": "af77e5ab-ddd9-4d37-d835-d6889cd584bf"
      },
      "source": [
        "draw_vae_samples(MODEL, 100000)"
      ],
      "execution_count": 25,
      "outputs": [
        {
          "output_type": "display_data",
          "data": {
            "image/png": "[encoded data removed]",
            "text/plain": [
              "<Figure size 432x288 with 1 Axes>"
            ]
          },
          "metadata": {
            "tags": []
          }
        }
      ]
    },
    {
      "cell_type": "code",
      "metadata": {
        "id": "gRYIdEQd0F3F",
        "colab_type": "code",
        "colab": {}
      },
      "source": [
        "torch.save(MODEL.state_dict(), './gdrive/My Drive/VAE_5_5000.pt')"
      ],
      "execution_count": 0,
      "outputs": []
    },
    {
      "cell_type": "code",
      "metadata": {
        "id": "tXNkn-kXSmId",
        "colab_type": "code",
        "colab": {}
      },
      "source": [
        ""
      ],
      "execution_count": 0,
      "outputs": []
    }
  ]
}