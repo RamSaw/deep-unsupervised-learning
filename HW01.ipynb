{
  "nbformat": 4,
  "nbformat_minor": 0,
  "metadata": {
    "colab": {
      "name": "HW01.ipynb",
      "provenance": [],
      "collapsed_sections": [],
      "include_colab_link": true
    },
    "kernelspec": {
      "name": "python3",
      "display_name": "Python 3"
    }
  },
  "cells": [
    {
      "cell_type": "markdown",
      "metadata": {
        "id": "view-in-github",
        "colab_type": "text"
      },
      "source": [
        "<a href=\"https://colab.research.google.com/github/RamSaw/deep-unsupervised-learning/blob/master/HW01.ipynb\" target=\"_parent\"><img src=\"https://colab.research.google.com/assets/colab-badge.svg\" alt=\"Open In Colab\"/></a>"
      ]
    },
    {
      "cell_type": "code",
      "metadata": {
        "id": "i27sl93pl2zY",
        "colab_type": "code",
        "colab": {}
      },
      "source": [
        "import torch\n",
        "import torch.nn as nn\n",
        "import torch.nn.functional as F\n",
        "import torch.optim as optim\n",
        "from torch.utils.data import Dataset, DataLoader\n",
        "from sklearn.model_selection import train_test_split\n",
        "import matplotlib\n",
        "import matplotlib.pyplot as plt"
      ],
      "execution_count": 0,
      "outputs": []
    },
    {
      "cell_type": "code",
      "metadata": {
        "id": "YEs2W-mHl6Ki",
        "colab_type": "code",
        "colab": {}
      },
      "source": [
        "import numpy as np\n",
        "def sample_data():\n",
        "  count = 10000\n",
        "  rand = np.random.RandomState(0)\n",
        "  a = 0.3 + 0.1 * rand.randn(count)\n",
        "  b = 0.8 + 0.05 * rand.randn(count)\n",
        "  mask = rand.rand(count) < 0.5\n",
        "  samples = np.clip(a * mask + b * (1 - mask), 0.0, 1.0)\n",
        "  return np.digitize(samples, np.linspace(0.0, 1.0, 100))\n",
        "\n",
        "def sample_data_validation():\n",
        "  count = 2000\n",
        "  rand = np.random.RandomState(4534)\n",
        "  a = 0.3 + 0.1 * rand.randn(count)\n",
        "  b = 0.8 + 0.05 * rand.randn(count)\n",
        "  mask = rand.rand(count) < 0.5\n",
        "  samples = np.clip(a * mask + b * (1 - mask), 0.0, 1.0)\n",
        "  return np.digitize(samples, np.linspace(0.0, 1.0, 100))"
      ],
      "execution_count": 0,
      "outputs": []
    },
    {
      "cell_type": "code",
      "metadata": {
        "id": "0mnob3jOmE1X",
        "colab_type": "code",
        "colab": {
          "base_uri": "https://localhost:8080/",
          "height": 121
        },
        "outputId": "5a35a6ba-8bae-4865-a0a4-4181cb19ad71"
      },
      "source": [
        "X = sample_data()\n",
        "X_train, X_test = train_test_split(X, test_size=0.2, random_state=42)\n",
        "X_val = sample_data_validation()\n",
        "X_train, X_val, X_test = torch.tensor(X_train), torch.tensor(X_val), torch.tensor(X_test)\n",
        "print(X_train.shape)\n",
        "print(X_train[:3])\n",
        "print(X_val.shape)\n",
        "print(X_val[:3])\n",
        "print(X_test.shape)\n",
        "print(X_test[:3])"
      ],
      "execution_count": 32,
      "outputs": [
        {
          "output_type": "stream",
          "text": [
            "torch.Size([8000])\n",
            "tensor([81, 24, 84])\n",
            "torch.Size([2000])\n",
            "tensor([21, 55, 90])\n",
            "torch.Size([2000])\n",
            "tensor([84, 18, 78])\n"
          ],
          "name": "stdout"
        }
      ]
    },
    {
      "cell_type": "code",
      "metadata": {
        "id": "qEHDlFBPmGvI",
        "colab_type": "code",
        "colab": {}
      },
      "source": [
        "class SoftMaxModel(nn.Module):\n",
        "  def __init__(self, num_labels):\n",
        "      super(SoftMaxModel, self).__init__()\n",
        "\n",
        "      self.num_labels = num_labels\n",
        "      self.thetas = nn.Embedding(num_labels, 1)\n",
        "      self.thetas.weight.data = torch.zeros_like(self.thetas.weight.data)\n",
        "      self.soft = nn.LogSoftmax(dim=0)\n",
        "\n",
        "  def forward(self):\n",
        "    return self.soft(self.thetas(torch.arange(self.num_labels))).transpose(1, 0)\n"
      ],
      "execution_count": 0,
      "outputs": []
    },
    {
      "cell_type": "code",
      "metadata": {
        "id": "seFy1dLypELX",
        "colab_type": "code",
        "colab": {}
      },
      "source": [
        "def train(lr, batch_size, num_epochs):\n",
        "  model = SoftMaxModel(100)\n",
        "  loss_function = nn.NLLLoss(reduction='mean')\n",
        "  optimizer = optim.SGD(model.parameters(), lr=lr)\n",
        "\n",
        "  trainloader = DataLoader(X_train, batch_size=batch_size)\n",
        "  num_batches = len(trainloader)\n",
        "  for epoch in range(num_epochs):\n",
        "      for i, batch in enumerate(trainloader):\n",
        "        model.zero_grad()\n",
        "        probs = model()\n",
        "        probs = probs.repeat(batch.size()[0], 1)\n",
        "        loss = loss_function(probs, batch)\n",
        "        loss.backward()\n",
        "        optimizer.step()\n",
        "        #if i == 0:\n",
        "        #  print(f'Negative log likelihood on {i} / {num_batches} step: {float(loss)}')\n",
        "\n",
        "  with torch.no_grad():\n",
        "      probs = model()\n",
        "      probs = probs.repeat(X_val.size()[0], 1)\n",
        "      loss = loss_function(probs, X_val)\n",
        "      print(f'Loss on validation set {float(loss)}')\n",
        "      return float(loss)"
      ],
      "execution_count": 0,
      "outputs": []
    },
    {
      "cell_type": "code",
      "metadata": {
        "id": "aa9Wo5aL92zA",
        "colab_type": "code",
        "colab": {
          "base_uri": "https://localhost:8080/",
          "height": 868
        },
        "outputId": "4fc47cbf-f779-4179-f5f1-530538da247d"
      },
      "source": [
        "lrs = [0.1, 0.01, 0.001]\n",
        "batch_sizes = [128, 256, 512, 1024]\n",
        "num_epochs = [5, 20]\n",
        "\n",
        "best_hyperparams = None\n",
        "best_loss = 1000\n",
        "for num_epoch in num_epochs:\n",
        "  for batch_size in batch_sizes:\n",
        "    for lr in lrs:\n",
        "      print(f\"Hyperparameters: lr = {lr}, batch_size = {batch_size}, num_epoch = {num_epoch}\")\n",
        "      loss = train(lr, batch_size, num_epoch)\n",
        "      if loss < best_loss:\n",
        "        best_loss = loss\n",
        "        best_hyperparams = (lr, batch_size, num_epoch)\n",
        "print(f'Best: best_loss = {best_loss}, best_hyperparams = {best_hyperparams}')"
      ],
      "execution_count": 59,
      "outputs": [
        {
          "output_type": "stream",
          "text": [
            "Hyperparameters: lr = 0.1, batch_size = 128, num_epoch = 5\n",
            "Loss on validation set 4.3578643798828125\n",
            "Hyperparameters: lr = 0.01, batch_size = 128, num_epoch = 5\n",
            "Loss on validation set 4.571216106414795\n",
            "Hyperparameters: lr = 0.001, batch_size = 128, num_epoch = 5\n",
            "Loss on validation set 4.601668357849121\n",
            "Hyperparameters: lr = 0.1, batch_size = 256, num_epoch = 5\n",
            "Loss on validation set 4.4554595947265625\n",
            "Hyperparameters: lr = 0.01, batch_size = 256, num_epoch = 5\n",
            "Loss on validation set 4.587660789489746\n",
            "Hyperparameters: lr = 0.001, batch_size = 256, num_epoch = 5\n",
            "Loss on validation set 4.603391647338867\n",
            "Hyperparameters: lr = 0.1, batch_size = 512, num_epoch = 5\n",
            "Loss on validation set 4.523371696472168\n",
            "Hyperparameters: lr = 0.01, batch_size = 512, num_epoch = 5\n",
            "Loss on validation set 4.596340656280518\n",
            "Hyperparameters: lr = 0.001, batch_size = 512, num_epoch = 5\n",
            "Loss on validation set 4.604288101196289\n",
            "Hyperparameters: lr = 0.1, batch_size = 1024, num_epoch = 5\n",
            "Loss on validation set 4.562437057495117\n",
            "Hyperparameters: lr = 0.01, batch_size = 1024, num_epoch = 5\n",
            "Loss on validation set 4.600742816925049\n",
            "Hyperparameters: lr = 0.001, batch_size = 1024, num_epoch = 5\n",
            "Loss on validation set 4.60473108291626\n",
            "Hyperparameters: lr = 0.1, batch_size = 128, num_epoch = 20\n",
            "Loss on validation set 4.176883697509766\n",
            "Hyperparameters: lr = 0.01, batch_size = 128, num_epoch = 20\n",
            "Loss on validation set 4.482729434967041\n",
            "Hyperparameters: lr = 0.001, batch_size = 128, num_epoch = 20\n",
            "Loss on validation set 4.591317653656006\n",
            "Hyperparameters: lr = 0.1, batch_size = 256, num_epoch = 20\n",
            "Loss on validation set 4.250040531158447\n",
            "Hyperparameters: lr = 0.01, batch_size = 256, num_epoch = 20\n",
            "Loss on validation set 4.538580894470215\n",
            "Hyperparameters: lr = 0.001, batch_size = 256, num_epoch = 20\n",
            "Loss on validation set 4.598078727722168\n",
            "Hyperparameters: lr = 0.1, batch_size = 512, num_epoch = 20\n",
            "Loss on validation set 4.355320453643799\n",
            "Hyperparameters: lr = 0.01, batch_size = 512, num_epoch = 20\n",
            "Loss on validation set 4.570699214935303\n",
            "Hyperparameters: lr = 0.001, batch_size = 512, num_epoch = 20\n",
            "Loss on validation set 4.601612091064453\n",
            "Hyperparameters: lr = 0.1, batch_size = 1024, num_epoch = 20\n",
            "Loss on validation set 4.4554362297058105\n",
            "Hyperparameters: lr = 0.01, batch_size = 1024, num_epoch = 20\n",
            "Loss on validation set 4.587643146514893\n",
            "Hyperparameters: lr = 0.001, batch_size = 1024, num_epoch = 20\n",
            "Loss on validation set 4.603364944458008\n",
            "Best: best_loss = 4.176883697509766, best_hyperparams = (0.1, 128, 20)\n"
          ],
          "name": "stdout"
        }
      ]
    },
    {
      "cell_type": "code",
      "metadata": {
        "id": "sthcEGaD-Ra7",
        "colab_type": "code",
        "colab": {}
      },
      "source": [
        "def plot_training(lr, batch_size, num_epochs):\n",
        "  model = SoftMaxModel(100)\n",
        "  loss_function = nn.NLLLoss(reduction='mean')\n",
        "  optimizer = optim.SGD(model.parameters(), lr=lr)\n",
        "\n",
        "  trainloader = DataLoader(X_train, batch_size=batch_size)\n",
        "  num_batches = len(trainloader)\n",
        "\n",
        "  t = []\n",
        "  loss_train = []\n",
        "  loss_val = []\n",
        "\n",
        "  fig, ax = plt.subplots()\n",
        "  \n",
        "  ax.set(xlabel='step', ylabel='loss',\n",
        "        title='Loss behaviour')\n",
        "\n",
        "  step = 0\n",
        "  for epoch in range(num_epochs):\n",
        "      for i, batch in enumerate(trainloader):\n",
        "        model.zero_grad()\n",
        "        probs = model()\n",
        "        probs = probs.repeat(batch.size()[0], 1)\n",
        "        loss = loss_function(probs, batch)\n",
        "        loss.backward()\n",
        "        optimizer.step()\n",
        "        step += 1\n",
        "        t.append(step)\n",
        "        loss_train.append(np.log2(float(loss)))\n",
        "        #if i == 0:\n",
        "        #  print(f'Negative log likelihood on {i} / {num_batches} step: {float(loss)}')\n",
        "\n",
        "        with torch.no_grad():\n",
        "            probs = model()\n",
        "            probs = probs.repeat(X_val.size()[0], 1)\n",
        "            loss = loss_function(probs, X_val)\n",
        "            loss_val.append(np.log2(float(loss)))\n",
        "  ax.plot(t, loss_train, label=\"train\")\n",
        "  ax.plot(t, loss_val, label=\"validation\")\n",
        "  ax.legend()\n",
        "  plt.show()\n",
        "  return model"
      ],
      "execution_count": 0,
      "outputs": []
    },
    {
      "cell_type": "code",
      "metadata": {
        "id": "LSjgsbmvDh34",
        "colab_type": "code",
        "colab": {
          "base_uri": "https://localhost:8080/",
          "height": 295
        },
        "outputId": "e262d61d-b82c-4458-ece6-4862f21bf8d2"
      },
      "source": [
        "model = plot_training(0.1, 128, 20)"
      ],
      "execution_count": 65,
      "outputs": [
        {
          "output_type": "display_data",
          "data": {
            "image/png": "[encoded data removed]",
            "text/plain": [
              "<Figure size 432x288 with 1 Axes>"
            ]
          },
          "metadata": {
            "tags": []
          }
        }
      ]
    },
    {
      "cell_type": "code",
      "metadata": {
        "id": "FxTuEyDMDqe5",
        "colab_type": "code",
        "colab": {
          "base_uri": "https://localhost:8080/",
          "height": 34
        },
        "outputId": "1108d87e-ce2c-4182-ea46-a18055aed8e6"
      },
      "source": [
        "with torch.no_grad():\n",
        "    probs = model()\n",
        "    probs = probs.repeat(X_test.size()[0], 1)\n",
        "    loss = loss_function(probs, X_test)\n",
        "    print(f'log2(Negative log likelihood) on test: {np.log2(float(loss))}')"
      ],
      "execution_count": 66,
      "outputs": [
        {
          "output_type": "stream",
          "text": [
            "log2(Negative log likelihood) on test: 2.0530826917394647\n"
          ],
          "name": "stdout"
        }
      ]
    },
    {
      "cell_type": "code",
      "metadata": {
        "id": "yIRv1ZHcHZcU",
        "colab_type": "code",
        "colab": {}
      },
      "source": [
        "def plot_probabilities_bar(p, title):\n",
        "  fig, ax = plt.subplots()\n",
        "  \n",
        "  ax.set(xlabel='x', ylabel='p',\n",
        "        title=title)\n",
        "  p.resize(100)\n",
        "  ax.bar(np.arange(100), p)\n",
        "  plt.show()"
      ],
      "execution_count": 0,
      "outputs": []
    },
    {
      "cell_type": "code",
      "metadata": {
        "id": "VS30pvd3LXKO",
        "colab_type": "code",
        "colab": {}
      },
      "source": [
        "def X_to_empirical_probs(X):\n",
        "  probs = np.zeros(100)\n",
        "  unique, counts = np.unique(X, return_counts=True)\n",
        "  probs[unique] += counts\n",
        "  probs /= len(X)\n",
        "  return probs"
      ],
      "execution_count": 0,
      "outputs": []
    },
    {
      "cell_type": "code",
      "metadata": {
        "id": "Ttl_S-IWIjsW",
        "colab_type": "code",
        "colab": {
          "base_uri": "https://localhost:8080/",
          "height": 295
        },
        "outputId": "0c9dc4dd-5c68-40ff-8e93-113bd53be126"
      },
      "source": [
        "plot_probabilities_bar(X_to_empirical_probs(X), title='Train empirical probability distribution')"
      ],
      "execution_count": 109,
      "outputs": [
        {
          "output_type": "display_data",
          "data": {
            "image/png": "[encoded data removed]",
            "text/plain": [
              "<Figure size 432x288 with 1 Axes>"
            ]
          },
          "metadata": {
            "tags": []
          }
        }
      ]
    },
    {
      "cell_type": "code",
      "metadata": {
        "id": "DAxJz0o7IekW",
        "colab_type": "code",
        "colab": {
          "base_uri": "https://localhost:8080/",
          "height": 295
        },
        "outputId": "4b192d93-d588-4112-8dd8-c92cfb3112e1"
      },
      "source": [
        "plot_probabilities_bar(np.exp(model().detach().numpy()), title='Learned probability distribution')"
      ],
      "execution_count": 110,
      "outputs": [
        {
          "output_type": "display_data",
          "data": {
            "image/png": "[encoded data removed]",
            "text/plain": [
              "<Figure size 432x288 with 1 Axes>"
            ]
          },
          "metadata": {
            "tags": []
          }
        }
      ]
    },
    {
      "cell_type": "code",
      "metadata": {
        "id": "jnUqZ33CLTZ5",
        "colab_type": "code",
        "colab": {}
      },
      "source": [
        "def sample_from_model(model, n):\n",
        "  probs = np.exp(model().detach().numpy())\n",
        "  probs.resize(100)\n",
        "  return np.random.choice(100, n, p=probs)"
      ],
      "execution_count": 0,
      "outputs": []
    },
    {
      "cell_type": "code",
      "metadata": {
        "id": "qYW2LKxsMmVJ",
        "colab_type": "code",
        "colab": {
          "base_uri": "https://localhost:8080/",
          "height": 34
        },
        "outputId": "b1f2d012-5388-43be-fe07-ef180ae7f31b"
      },
      "source": [
        "sample_from_model(model, 10)"
      ],
      "execution_count": 116,
      "outputs": [
        {
          "output_type": "execute_result",
          "data": {
            "text/plain": [
              "array([25, 40,  8, 84, 30, 30, 16, 77, 94, 59])"
            ]
          },
          "metadata": {
            "tags": []
          },
          "execution_count": 116
        }
      ]
    },
    {
      "cell_type": "code",
      "metadata": {
        "id": "SinQNAReMo58",
        "colab_type": "code",
        "colab": {
          "base_uri": "https://localhost:8080/",
          "height": 295
        },
        "outputId": "5896efe3-5974-47e8-e90b-b582d7b23ad9"
      },
      "source": [
        "plot_probabilities_bar(X_to_empirical_probs(sample_from_model(model, 1000)), title='Sampled from model empirical probability distribution, n = 1k')"
      ],
      "execution_count": 120,
      "outputs": [
        {
          "output_type": "display_data",
          "data": {
            "image/png": "[encoded data removed]",
            "text/plain": [
              "<Figure size 432x288 with 1 Axes>"
            ]
          },
          "metadata": {
            "tags": []
          }
        }
      ]
    },
    {
      "cell_type": "code",
      "metadata": {
        "id": "II9sDyM-M9oh",
        "colab_type": "code",
        "colab": {
          "base_uri": "https://localhost:8080/",
          "height": 295
        },
        "outputId": "b9119be5-f30d-440d-cc65-169e13c39cff"
      },
      "source": [
        "plot_probabilities_bar(X_to_empirical_probs(sample_from_model(model, 10000)), title='Sampled from model empirical probability distribution, n = 10k')"
      ],
      "execution_count": 121,
      "outputs": [
        {
          "output_type": "display_data",
          "data": {
            "image/png": "[encoded data removed]",
            "text/plain": [
              "<Figure size 432x288 with 1 Axes>"
            ]
          },
          "metadata": {
            "tags": []
          }
        }
      ]
    },
    {
      "cell_type": "markdown",
      "metadata": {
        "id": "guMjHNA_NbfV",
        "colab_type": "text"
      },
      "source": [
        "#Analysis\n",
        "As we can see, model probability distribution is fit quite well comparing with empirical distribution calculated on train. When we do sampling from model with 1K samples it is not enough because training set is 10K in size. But we still see convergence and if we sample 10K we see pretty good convergence. Also it is noticable that the most challenging for model is to remember distribution where it has low mass. It is consistent with the theory because low probability needs more samples to converge to it."
      ]
    }
  ]
}