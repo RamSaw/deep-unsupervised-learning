{
  "nbformat": 4,
  "nbformat_minor": 0,
  "metadata": {
    "colab": {
      "name": "HW01_3.ipynb",
      "provenance": [],
      "collapsed_sections": [],
      "toc_visible": true,
      "include_colab_link": true
    },
    "kernelspec": {
      "name": "python3",
      "display_name": "Python 3"
    },
    "accelerator": "GPU"
  },
  "cells": [
    {
      "cell_type": "markdown",
      "metadata": {
        "id": "view-in-github",
        "colab_type": "text"
      },
      "source": [
        "<a href=\"https://colab.research.google.com/github/RamSaw/deep-unsupervised-learning/blob/hw_01/HW01_3.ipynb\" target=\"_parent\"><img src=\"https://colab.research.google.com/assets/colab-badge.svg\" alt=\"Open In Colab\"/></a>"
      ]
    },
    {
      "cell_type": "markdown",
      "metadata": {
        "id": "FBsD3NGdCQgx",
        "colab_type": "text"
      },
      "source": [
        "# Task 3 PixelCNN"
      ]
    },
    {
      "cell_type": "code",
      "metadata": {
        "id": "Gk-tN3BKCTvR",
        "colab_type": "code",
        "outputId": "790f32e6-7a10-4c97-ff9c-820d0a6d1877",
        "colab": {
          "base_uri": "https://localhost:8080/",
          "height": 34
        }
      },
      "source": [
        "import time\n",
        "import numpy as np\n",
        "import torch\n",
        "import torch.nn as nn\n",
        "import torch.nn.functional as F\n",
        "import torch.optim as optim\n",
        "from torch.utils.data import Dataset, DataLoader\n",
        "from sklearn.model_selection import train_test_split\n",
        "import matplotlib\n",
        "import matplotlib.pyplot as plt\n",
        "from tqdm.auto import tqdm\n",
        "from torch.autograd import Variable\n",
        "from torch import cuda\n",
        "from mpl_toolkits.mplot3d import Axes3D\n",
        "import pickle\n",
        "import datetime\n",
        "from pathlib import Path\n",
        "import torchvision\n",
        "SEED = 24839\n",
        "torch.manual_seed(SEED)\n",
        "#torch.backends.cudnn.deterministic = True\n",
        "#torch.backends.cudnn.benchmark = False\n",
        "np.random.seed(SEED)\n",
        "device = torch.device('cuda:0' if torch.cuda.is_available() else 'cpu')\n",
        "print(device)"
      ],
      "execution_count": 1,
      "outputs": [
        {
          "output_type": "stream",
          "text": [
            "cuda:0\n"
          ],
          "name": "stdout"
        }
      ]
    },
    {
      "cell_type": "code",
      "metadata": {
        "id": "LRO3ReDCFVqC",
        "colab_type": "code",
        "outputId": "2a6bc69b-90b9-4897-aac3-407745bf40d0",
        "colab": {
          "base_uri": "https://localhost:8080/",
          "height": 86
        }
      },
      "source": [
        "dataset = None\n",
        "with open('mnist-hw1.pkl', 'rb') as data_file:\n",
        "  dataset = pickle.load(data_file)\n",
        "\n",
        "X_train = dataset['train']\n",
        "X_train, X_val = train_test_split(X_train, test_size=0.1, random_state=42)\n",
        "X_test = dataset['test']\n",
        "X_train, X_val, X_test = torch.tensor(X_train).transpose(1, 3).float(), torch.tensor(X_val).transpose(1, 3).float(), torch.tensor(X_test).transpose(1, 3).float()\n",
        "print(X_train.shape)\n",
        "print(X_val.shape)\n",
        "print(X_test.shape)\n",
        "print(X_train[0][0][0][0])"
      ],
      "execution_count": 2,
      "outputs": [
        {
          "output_type": "stream",
          "text": [
            "torch.Size([54000, 3, 28, 28])\n",
            "torch.Size([6000, 3, 28, 28])\n",
            "torch.Size([10000, 3, 28, 28])\n",
            "tensor(3.)\n"
          ],
          "name": "stdout"
        }
      ]
    },
    {
      "cell_type": "code",
      "metadata": {
        "id": "Tk2Qonbe5IoA",
        "colab_type": "code",
        "colab": {
          "base_uri": "https://localhost:8080/",
          "height": 809
        },
        "outputId": "b732babb-e136-49b6-c86e-fc518eb7aedc"
      },
      "source": [
        "def imshow(grid):\n",
        "    npimg = grid.cpu().numpy()\n",
        "    plt.figure(figsize=[14, 14])\n",
        "    plt.imshow(np.transpose(npimg, (2, 1, 0)) * 50)\n",
        "    plt.show()\n",
        "\n",
        "grid = torchvision.utils.make_grid(X_train[100:109].long(), nrow=3)\n",
        "imshow(grid)"
      ],
      "execution_count": 3,
      "outputs": [
        {
          "output_type": "display_data",
          "data": {
            "image/png": "[encoded data removed]",
            "text/plain": [
              "<Figure size 1008x1008 with 1 Axes>"
            ]
          },
          "metadata": {
            "tags": []
          }
        }
      ]
    },
    {
      "cell_type": "code",
      "metadata": {
        "id": "ZbapbUp8K4h8",
        "colab_type": "code",
        "outputId": "bc5d0e81-07a4-4e31-ad69-19a541e98f7a",
        "colab": {
          "base_uri": "https://localhost:8080/",
          "height": 86
        }
      },
      "source": [
        "class MaskedConv2d(nn.Conv2d):\n",
        "    def __init__(self, mask_type, *args, **kwargs):\n",
        "        super(MaskedConv2d, self).__init__(*args, **kwargs)\n",
        "        self.register_buffer('mask', self.weight.data.clone())\n",
        "        _, _, kH, kW = self.weight.size()\n",
        "        self.mask.fill_(1)\n",
        "        self.mask[:, :, kH // 2, kW // 2 + (mask_type == 'B'):] = 0\n",
        "        self.mask[:, :, kH // 2 + 1:] = 0\n",
        "\n",
        "    def forward(self, x):\n",
        "        self.weight.data *= self.mask\n",
        "        return super(MaskedConv2d, self).forward(x)\n",
        "  \n",
        "def test_MaskedConv2d():\n",
        "  model_A = MaskedConv2d('A', 2, 3, (5, 4))\n",
        "  for param in model_A.parameters():\n",
        "      if param.requires_grad:\n",
        "        print(param.data.shape)\n",
        "  model_B = MaskedConv2d('B', 2, 3, (5, 4))\n",
        "  for param in model_B.parameters():\n",
        "      if param.requires_grad:\n",
        "        print(param.data.shape)\n",
        "test_MaskedConv2d()"
      ],
      "execution_count": 4,
      "outputs": [
        {
          "output_type": "stream",
          "text": [
            "torch.Size([3, 2, 5, 4])\n",
            "torch.Size([3])\n",
            "torch.Size([3, 2, 5, 4])\n",
            "torch.Size([3])\n"
          ],
          "name": "stdout"
        }
      ]
    },
    {
      "cell_type": "code",
      "metadata": {
        "id": "HZFnPQotP4N1",
        "colab_type": "code",
        "outputId": "63490b4e-f4ac-49ca-97ae-fb38e012cb4b",
        "colab": {
          "base_uri": "https://localhost:8080/",
          "height": 225
        }
      },
      "source": [
        "class ResidualBlock(nn.Module):\n",
        "  def __init__(self, h):\n",
        "    super(ResidualBlock, self).__init__()\n",
        "    self.block = nn.Sequential(\n",
        "        nn.ReLU(),\n",
        "        MaskedConv2d('B', 2 * h, h, kernel_size=1),\n",
        "        nn.BatchNorm2d(h),\n",
        "        nn.ReLU(),\n",
        "        MaskedConv2d('B', h, h, kernel_size=3, padding=1),\n",
        "        nn.BatchNorm2d(h),\n",
        "        nn.ReLU(),\n",
        "        MaskedConv2d('B', h, 2 * h, kernel_size=1),\n",
        "        nn.BatchNorm2d(2 * h),\n",
        "    )\n",
        "  \n",
        "  def forward(self, x):\n",
        "    return self.block(x)\n",
        "    \n",
        "def test_ResidualBlock():\n",
        "  model = ResidualBlock(2)\n",
        "  for param in model.parameters():\n",
        "      if param.requires_grad:\n",
        "        print(param.data.shape)\n",
        "test_ResidualBlock()"
      ],
      "execution_count": 5,
      "outputs": [
        {
          "output_type": "stream",
          "text": [
            "torch.Size([2, 4, 1, 1])\n",
            "torch.Size([2])\n",
            "torch.Size([2])\n",
            "torch.Size([2])\n",
            "torch.Size([2, 2, 3, 3])\n",
            "torch.Size([2])\n",
            "torch.Size([2])\n",
            "torch.Size([2])\n",
            "torch.Size([4, 2, 1, 1])\n",
            "torch.Size([4])\n",
            "torch.Size([4])\n",
            "torch.Size([4])\n"
          ],
          "name": "stdout"
        }
      ]
    },
    {
      "cell_type": "code",
      "metadata": {
        "id": "Ccn2nidLNq5m",
        "colab_type": "code",
        "outputId": "0966bfbe-aa2e-4caa-ae11-a80326af5086",
        "colab": {
          "base_uri": "https://localhost:8080/",
          "height": 1000
        }
      },
      "source": [
        "h = 128\n",
        "layers = [\n",
        "  MaskedConv2d('A', 3,  2 * h, 7, stride=1, padding=3, bias=False), \n",
        "  nn.BatchNorm2d(2 * h),\n",
        "  nn.ReLU()\n",
        "]\n",
        "layers += [ResidualBlock(h) for i in range(12)]\n",
        "layers += [\n",
        "   nn.ReLU(),\n",
        "   MaskedConv2d('B', 2 * h, 2 * h, 1),\n",
        "   nn.BatchNorm2d(2 * h),\n",
        "   nn.ReLU(),\n",
        "   nn.Conv2d(2 * h, 3 * 4, 1)\n",
        "]\n",
        "\n",
        "def test_model():\n",
        "  model = nn.Sequential(*layers)\n",
        "  print(model)\n",
        "  trainloader = DataLoader(X_train, batch_size=128, shuffle=True)\n",
        "  for batch in trainloader:\n",
        "    print(batch.size())\n",
        "    model.train(False)\n",
        "    out = model(batch)\n",
        "    print(out.shape)\n",
        "    break\n",
        "\n",
        "test_model()"
      ],
      "execution_count": 6,
      "outputs": [
        {
          "output_type": "stream",
          "text": [
            "Sequential(\n",
            "  (0): MaskedConv2d(3, 256, kernel_size=(7, 7), stride=(1, 1), padding=(3, 3), bias=False)\n",
            "  (1): BatchNorm2d(256, eps=1e-05, momentum=0.1, affine=True, track_running_stats=True)\n",
            "  (2): ReLU()\n",
            "  (3): ResidualBlock(\n",
            "    (block): Sequential(\n",
            "      (0): ReLU()\n",
            "      (1): MaskedConv2d(256, 128, kernel_size=(1, 1), stride=(1, 1))\n",
            "      (2): BatchNorm2d(128, eps=1e-05, momentum=0.1, affine=True, track_running_stats=True)\n",
            "      (3): ReLU()\n",
            "      (4): MaskedConv2d(128, 128, kernel_size=(3, 3), stride=(1, 1), padding=(1, 1))\n",
            "      (5): BatchNorm2d(128, eps=1e-05, momentum=0.1, affine=True, track_running_stats=True)\n",
            "      (6): ReLU()\n",
            "      (7): MaskedConv2d(128, 256, kernel_size=(1, 1), stride=(1, 1))\n",
            "      (8): BatchNorm2d(256, eps=1e-05, momentum=0.1, affine=True, track_running_stats=True)\n",
            "    )\n",
            "  )\n",
            "  (4): ResidualBlock(\n",
            "    (block): Sequential(\n",
            "      (0): ReLU()\n",
            "      (1): MaskedConv2d(256, 128, kernel_size=(1, 1), stride=(1, 1))\n",
            "      (2): BatchNorm2d(128, eps=1e-05, momentum=0.1, affine=True, track_running_stats=True)\n",
            "      (3): ReLU()\n",
            "      (4): MaskedConv2d(128, 128, kernel_size=(3, 3), stride=(1, 1), padding=(1, 1))\n",
            "      (5): BatchNorm2d(128, eps=1e-05, momentum=0.1, affine=True, track_running_stats=True)\n",
            "      (6): ReLU()\n",
            "      (7): MaskedConv2d(128, 256, kernel_size=(1, 1), stride=(1, 1))\n",
            "      (8): BatchNorm2d(256, eps=1e-05, momentum=0.1, affine=True, track_running_stats=True)\n",
            "    )\n",
            "  )\n",
            "  (5): ResidualBlock(\n",
            "    (block): Sequential(\n",
            "      (0): ReLU()\n",
            "      (1): MaskedConv2d(256, 128, kernel_size=(1, 1), stride=(1, 1))\n",
            "      (2): BatchNorm2d(128, eps=1e-05, momentum=0.1, affine=True, track_running_stats=True)\n",
            "      (3): ReLU()\n",
            "      (4): MaskedConv2d(128, 128, kernel_size=(3, 3), stride=(1, 1), padding=(1, 1))\n",
            "      (5): BatchNorm2d(128, eps=1e-05, momentum=0.1, affine=True, track_running_stats=True)\n",
            "      (6): ReLU()\n",
            "      (7): MaskedConv2d(128, 256, kernel_size=(1, 1), stride=(1, 1))\n",
            "      (8): BatchNorm2d(256, eps=1e-05, momentum=0.1, affine=True, track_running_stats=True)\n",
            "    )\n",
            "  )\n",
            "  (6): ResidualBlock(\n",
            "    (block): Sequential(\n",
            "      (0): ReLU()\n",
            "      (1): MaskedConv2d(256, 128, kernel_size=(1, 1), stride=(1, 1))\n",
            "      (2): BatchNorm2d(128, eps=1e-05, momentum=0.1, affine=True, track_running_stats=True)\n",
            "      (3): ReLU()\n",
            "      (4): MaskedConv2d(128, 128, kernel_size=(3, 3), stride=(1, 1), padding=(1, 1))\n",
            "      (5): BatchNorm2d(128, eps=1e-05, momentum=0.1, affine=True, track_running_stats=True)\n",
            "      (6): ReLU()\n",
            "      (7): MaskedConv2d(128, 256, kernel_size=(1, 1), stride=(1, 1))\n",
            "      (8): BatchNorm2d(256, eps=1e-05, momentum=0.1, affine=True, track_running_stats=True)\n",
            "    )\n",
            "  )\n",
            "  (7): ResidualBlock(\n",
            "    (block): Sequential(\n",
            "      (0): ReLU()\n",
            "      (1): MaskedConv2d(256, 128, kernel_size=(1, 1), stride=(1, 1))\n",
            "      (2): BatchNorm2d(128, eps=1e-05, momentum=0.1, affine=True, track_running_stats=True)\n",
            "      (3): ReLU()\n",
            "      (4): MaskedConv2d(128, 128, kernel_size=(3, 3), stride=(1, 1), padding=(1, 1))\n",
            "      (5): BatchNorm2d(128, eps=1e-05, momentum=0.1, affine=True, track_running_stats=True)\n",
            "      (6): ReLU()\n",
            "      (7): MaskedConv2d(128, 256, kernel_size=(1, 1), stride=(1, 1))\n",
            "      (8): BatchNorm2d(256, eps=1e-05, momentum=0.1, affine=True, track_running_stats=True)\n",
            "    )\n",
            "  )\n",
            "  (8): ResidualBlock(\n",
            "    (block): Sequential(\n",
            "      (0): ReLU()\n",
            "      (1): MaskedConv2d(256, 128, kernel_size=(1, 1), stride=(1, 1))\n",
            "      (2): BatchNorm2d(128, eps=1e-05, momentum=0.1, affine=True, track_running_stats=True)\n",
            "      (3): ReLU()\n",
            "      (4): MaskedConv2d(128, 128, kernel_size=(3, 3), stride=(1, 1), padding=(1, 1))\n",
            "      (5): BatchNorm2d(128, eps=1e-05, momentum=0.1, affine=True, track_running_stats=True)\n",
            "      (6): ReLU()\n",
            "      (7): MaskedConv2d(128, 256, kernel_size=(1, 1), stride=(1, 1))\n",
            "      (8): BatchNorm2d(256, eps=1e-05, momentum=0.1, affine=True, track_running_stats=True)\n",
            "    )\n",
            "  )\n",
            "  (9): ResidualBlock(\n",
            "    (block): Sequential(\n",
            "      (0): ReLU()\n",
            "      (1): MaskedConv2d(256, 128, kernel_size=(1, 1), stride=(1, 1))\n",
            "      (2): BatchNorm2d(128, eps=1e-05, momentum=0.1, affine=True, track_running_stats=True)\n",
            "      (3): ReLU()\n",
            "      (4): MaskedConv2d(128, 128, kernel_size=(3, 3), stride=(1, 1), padding=(1, 1))\n",
            "      (5): BatchNorm2d(128, eps=1e-05, momentum=0.1, affine=True, track_running_stats=True)\n",
            "      (6): ReLU()\n",
            "      (7): MaskedConv2d(128, 256, kernel_size=(1, 1), stride=(1, 1))\n",
            "      (8): BatchNorm2d(256, eps=1e-05, momentum=0.1, affine=True, track_running_stats=True)\n",
            "    )\n",
            "  )\n",
            "  (10): ResidualBlock(\n",
            "    (block): Sequential(\n",
            "      (0): ReLU()\n",
            "      (1): MaskedConv2d(256, 128, kernel_size=(1, 1), stride=(1, 1))\n",
            "      (2): BatchNorm2d(128, eps=1e-05, momentum=0.1, affine=True, track_running_stats=True)\n",
            "      (3): ReLU()\n",
            "      (4): MaskedConv2d(128, 128, kernel_size=(3, 3), stride=(1, 1), padding=(1, 1))\n",
            "      (5): BatchNorm2d(128, eps=1e-05, momentum=0.1, affine=True, track_running_stats=True)\n",
            "      (6): ReLU()\n",
            "      (7): MaskedConv2d(128, 256, kernel_size=(1, 1), stride=(1, 1))\n",
            "      (8): BatchNorm2d(256, eps=1e-05, momentum=0.1, affine=True, track_running_stats=True)\n",
            "    )\n",
            "  )\n",
            "  (11): ResidualBlock(\n",
            "    (block): Sequential(\n",
            "      (0): ReLU()\n",
            "      (1): MaskedConv2d(256, 128, kernel_size=(1, 1), stride=(1, 1))\n",
            "      (2): BatchNorm2d(128, eps=1e-05, momentum=0.1, affine=True, track_running_stats=True)\n",
            "      (3): ReLU()\n",
            "      (4): MaskedConv2d(128, 128, kernel_size=(3, 3), stride=(1, 1), padding=(1, 1))\n",
            "      (5): BatchNorm2d(128, eps=1e-05, momentum=0.1, affine=True, track_running_stats=True)\n",
            "      (6): ReLU()\n",
            "      (7): MaskedConv2d(128, 256, kernel_size=(1, 1), stride=(1, 1))\n",
            "      (8): BatchNorm2d(256, eps=1e-05, momentum=0.1, affine=True, track_running_stats=True)\n",
            "    )\n",
            "  )\n",
            "  (12): ResidualBlock(\n",
            "    (block): Sequential(\n",
            "      (0): ReLU()\n",
            "      (1): MaskedConv2d(256, 128, kernel_size=(1, 1), stride=(1, 1))\n",
            "      (2): BatchNorm2d(128, eps=1e-05, momentum=0.1, affine=True, track_running_stats=True)\n",
            "      (3): ReLU()\n",
            "      (4): MaskedConv2d(128, 128, kernel_size=(3, 3), stride=(1, 1), padding=(1, 1))\n",
            "      (5): BatchNorm2d(128, eps=1e-05, momentum=0.1, affine=True, track_running_stats=True)\n",
            "      (6): ReLU()\n",
            "      (7): MaskedConv2d(128, 256, kernel_size=(1, 1), stride=(1, 1))\n",
            "      (8): BatchNorm2d(256, eps=1e-05, momentum=0.1, affine=True, track_running_stats=True)\n",
            "    )\n",
            "  )\n",
            "  (13): ResidualBlock(\n",
            "    (block): Sequential(\n",
            "      (0): ReLU()\n",
            "      (1): MaskedConv2d(256, 128, kernel_size=(1, 1), stride=(1, 1))\n",
            "      (2): BatchNorm2d(128, eps=1e-05, momentum=0.1, affine=True, track_running_stats=True)\n",
            "      (3): ReLU()\n",
            "      (4): MaskedConv2d(128, 128, kernel_size=(3, 3), stride=(1, 1), padding=(1, 1))\n",
            "      (5): BatchNorm2d(128, eps=1e-05, momentum=0.1, affine=True, track_running_stats=True)\n",
            "      (6): ReLU()\n",
            "      (7): MaskedConv2d(128, 256, kernel_size=(1, 1), stride=(1, 1))\n",
            "      (8): BatchNorm2d(256, eps=1e-05, momentum=0.1, affine=True, track_running_stats=True)\n",
            "    )\n",
            "  )\n",
            "  (14): ResidualBlock(\n",
            "    (block): Sequential(\n",
            "      (0): ReLU()\n",
            "      (1): MaskedConv2d(256, 128, kernel_size=(1, 1), stride=(1, 1))\n",
            "      (2): BatchNorm2d(128, eps=1e-05, momentum=0.1, affine=True, track_running_stats=True)\n",
            "      (3): ReLU()\n",
            "      (4): MaskedConv2d(128, 128, kernel_size=(3, 3), stride=(1, 1), padding=(1, 1))\n",
            "      (5): BatchNorm2d(128, eps=1e-05, momentum=0.1, affine=True, track_running_stats=True)\n",
            "      (6): ReLU()\n",
            "      (7): MaskedConv2d(128, 256, kernel_size=(1, 1), stride=(1, 1))\n",
            "      (8): BatchNorm2d(256, eps=1e-05, momentum=0.1, affine=True, track_running_stats=True)\n",
            "    )\n",
            "  )\n",
            "  (15): ReLU()\n",
            "  (16): MaskedConv2d(256, 256, kernel_size=(1, 1), stride=(1, 1))\n",
            "  (17): BatchNorm2d(256, eps=1e-05, momentum=0.1, affine=True, track_running_stats=True)\n",
            "  (18): ReLU()\n",
            "  (19): Conv2d(256, 12, kernel_size=(1, 1), stride=(1, 1))\n",
            ")\n",
            "torch.Size([128, 3, 28, 28])\n",
            "torch.Size([128, 12, 28, 28])\n"
          ],
          "name": "stdout"
        }
      ]
    },
    {
      "cell_type": "code",
      "metadata": {
        "id": "nx7IG7__duu3",
        "colab_type": "code",
        "colab": {}
      },
      "source": [
        "def loss_function(out, batch):\n",
        "  out = out.reshape(out.shape[0], 3, 4, 28, 28).permute(0, 1, 3, 4, 2)\n",
        "  probs = F.softmax(out, dim=-1)\n",
        "  target = F.one_hot(batch.to(torch.int64), -1)\n",
        "  probs = (probs * target).sum(dim=-1)\n",
        "  return -torch.sum(torch.log(probs)) / len(probs)"
      ],
      "execution_count": 0,
      "outputs": []
    },
    {
      "cell_type": "code",
      "metadata": {
        "id": "NkuzrXuzUqpd",
        "colab_type": "code",
        "colab": {}
      },
      "source": [
        "batch_size = 128\n",
        "trainloader = DataLoader(X_train, batch_size=batch_size, shuffle=True)\n",
        "valloader = DataLoader(X_val, batch_size=batch_size, shuffle=False)\n",
        "testloader = DataLoader(X_test, batch_size=batch_size, shuffle=False)"
      ],
      "execution_count": 0,
      "outputs": []
    },
    {
      "cell_type": "code",
      "metadata": {
        "id": "-xXjoh-E-g3R",
        "colab_type": "code",
        "colab": {}
      },
      "source": [
        "model = None\n",
        "dimensions = 28 * 28 * 3"
      ],
      "execution_count": 0,
      "outputs": []
    },
    {
      "cell_type": "code",
      "metadata": {
        "id": "eFjXs08WOj0q",
        "colab_type": "code",
        "outputId": "b2bbc1e7-df93-4b0e-bb83-8b3c141a4c6b",
        "colab": {
          "base_uri": "https://localhost:8080/",
          "height": 1000
        }
      },
      "source": [
        "num_epochs = 15\n",
        "lr = 1e-3\n",
        "#torch.autograd.set_detect_anomaly(True)\n",
        "model = nn.Sequential(*layers)\n",
        "if Path('./model.pkl').exists():\n",
        "  model.load_state_dict(torch.load('./model.pkl'))\n",
        "  print('Model loaded!')\n",
        "model.to(device)\n",
        "#model.cuda()\n",
        "optimizer = optim.Adam(model.parameters(), lr=lr)\n",
        "losses_train = []\n",
        "losses_val = []\n",
        "num_batches = len(trainloader)\n",
        "for epoch in range(num_epochs):\n",
        "  #cuda.synchronize()\n",
        "  time_tr = time.time()\n",
        "  model.train(True)\n",
        "  losses_train_per_epoch = []\n",
        "  for i, batch in enumerate(trainloader):\n",
        "      #batch = Variable(batch.cuda(async=True))\n",
        "      batch = batch.to(device)\n",
        "      out = model(batch)\n",
        "      loss = loss_function(out, batch)\n",
        "      losses_train_per_epoch.append(float(loss) / dimensions / np.log(2))\n",
        "      optimizer.zero_grad()\n",
        "      loss.backward()\n",
        "      optimizer.step()\n",
        "      if i % 50 == 0:\n",
        "        print(f'Loss on batch {i} / {num_batches}: {losses_train_per_epoch[-1]}')\n",
        "  #cuda.synchronize()\n",
        "  losses_train.append(np.mean(losses_train_per_epoch))\n",
        "  time_tr = time.time() - time_tr\n",
        "  print(f'Training time: {time_tr}')\n",
        "  #torch.cuda.empty_cache()\n",
        "\n",
        "  # compute error on test set\n",
        "  #cuda.synchronize()\n",
        "  time_te = time.time()\n",
        "  losses_val_per_epoch = []\n",
        "  model.train(False)\n",
        "  with torch.no_grad():\n",
        "    for batch in valloader:\n",
        "        #batch = Variable(batch.cuda(async=True))\n",
        "        batch = batch.to(device)\n",
        "        out = model(batch)\n",
        "        loss = loss_function(out, batch)\n",
        "        losses_val_per_epoch.append(float(loss) / dimensions / np.log(2))\n",
        "  #cuda.synchronize()\n",
        "  losses_val.append(np.mean(losses_val_per_epoch))\n",
        "  time_te = time.time() - time_te\n",
        "  print(f'Validation loss: {losses_val[-1]}')\n",
        "  print(f'Validation time: {time_te}')\n",
        "  print(f'Epoch {epoch} / {num_epochs}')\n",
        "  #torch.cuda.empty_cache()\n",
        "  if epoch % 5 == 0:\n",
        "    torch.save(model.state_dict(), \"./model.pkl\")\n",
        "    print(\"Model saved!\")\n",
        "torch.save(model.state_dict(), \"./model.pkl\")"
      ],
      "execution_count": 0,
      "outputs": [
        {
          "output_type": "stream",
          "text": [
            "Model loaded!\n",
            "Loss on batch 0 / 422: 0.12191866498964588\n",
            "Loss on batch 50 / 422: 0.11609465386042776\n",
            "Loss on batch 100 / 422: 0.12211568457063428\n",
            "Loss on batch 150 / 422: 0.12289687422895339\n",
            "Loss on batch 200 / 422: 0.11783114045713942\n",
            "Loss on batch 250 / 422: 0.1209647626316603\n",
            "Loss on batch 300 / 422: 0.11959354378638112\n",
            "Loss on batch 350 / 422: 0.12482828385624294\n",
            "Loss on batch 400 / 422: 0.12244371047347993\n",
            "Training time: 115.36540532112122\n",
            "Validation loss: 0.12523229935616773\n",
            "Validation time: 4.238876104354858\n",
            "Epoch 0 / 15\n",
            "Model saved!\n",
            "Loss on batch 0 / 422: 0.1274985683900393\n",
            "Loss on batch 50 / 422: 0.11971718410300139\n",
            "Loss on batch 100 / 422: 0.12117524131751622\n",
            "Loss on batch 150 / 422: 0.11888540580642849\n",
            "Loss on batch 200 / 422: 0.12254699365999808\n",
            "Loss on batch 250 / 422: 0.1264254528062557\n",
            "Loss on batch 300 / 422: 0.11943587196399011\n",
            "Loss on batch 350 / 422: 0.12508959452995388\n",
            "Loss on batch 400 / 422: 0.12425250934015437\n",
            "Training time: 115.30396842956543\n",
            "Validation loss: 0.12501315109184272\n",
            "Validation time: 4.2401814460754395\n",
            "Epoch 1 / 15\n",
            "Loss on batch 0 / 422: 0.1239456080546147\n",
            "Loss on batch 50 / 422: 0.12101247787269968\n",
            "Loss on batch 100 / 422: 0.125331802259969\n",
            "Loss on batch 150 / 422: 0.12299925889386702\n",
            "Loss on batch 200 / 422: 0.12415883846288445\n",
            "Loss on batch 250 / 422: 0.11964197035702408\n",
            "Loss on batch 300 / 422: 0.1887480531661179\n",
            "Loss on batch 350 / 422: 0.137303292296028\n",
            "Loss on batch 400 / 422: 0.1373880247552531\n",
            "Training time: 115.35692143440247\n",
            "Validation loss: 0.1312274921934531\n",
            "Validation time: 4.241982936859131\n",
            "Epoch 2 / 15\n",
            "Loss on batch 0 / 422: 0.1311924281445708\n",
            "Loss on batch 50 / 422: 0.12502280442401884\n",
            "Loss on batch 100 / 422: 0.12504309603692063\n",
            "Loss on batch 150 / 422: 0.12573190644277626\n",
            "Loss on batch 200 / 422: 0.12312121448247887\n",
            "Loss on batch 250 / 422: 0.12295833872246173\n",
            "Loss on batch 300 / 422: 0.12100178920944606\n",
            "Loss on batch 350 / 422: 0.12318057306597666\n",
            "Loss on batch 400 / 422: 0.1256443286651369\n",
            "Training time: 115.36295938491821\n",
            "Validation loss: 0.1255619295342895\n",
            "Validation time: 4.239046812057495\n",
            "Epoch 3 / 15\n",
            "Loss on batch 0 / 422: 0.12161186665970672\n",
            "Loss on batch 50 / 422: 0.11765262480544385\n",
            "Loss on batch 100 / 422: 0.12224620419328908\n",
            "Loss on batch 150 / 422: 0.12314223614418432\n",
            "Loss on batch 200 / 422: 0.11740025254977772\n",
            "Loss on batch 250 / 422: 0.12052504862145433\n",
            "Loss on batch 300 / 422: 0.11920021595400786\n",
            "Loss on batch 350 / 422: 0.12384207215889528\n",
            "Loss on batch 400 / 422: 0.1194146256718835\n",
            "Training time: 115.38856554031372\n",
            "Validation loss: 0.12447967798515785\n",
            "Validation time: 4.242889165878296\n",
            "Epoch 4 / 15\n",
            "Loss on batch 0 / 422: 0.12071678002841621\n",
            "Loss on batch 50 / 422: 0.11901098356025852\n",
            "Loss on batch 100 / 422: 0.12171895920344397\n",
            "Loss on batch 150 / 422: 0.11638399653627936\n",
            "Loss on batch 200 / 422: 0.12454102837120183\n",
            "Loss on batch 250 / 422: 0.12271442754523806\n",
            "Loss on batch 300 / 422: 0.11504947668278429\n",
            "Loss on batch 350 / 422: 0.11860254933340947\n",
            "Loss on batch 400 / 422: 0.12048571958205702\n",
            "Training time: 115.37012887001038\n",
            "Validation loss: 0.12425506729893315\n",
            "Validation time: 4.239929676055908\n",
            "Epoch 5 / 15\n",
            "Model saved!\n",
            "Loss on batch 0 / 422: 0.12235913712745565\n",
            "Loss on batch 50 / 422: 0.11775663804076567\n",
            "Loss on batch 100 / 422: 0.12338871185182085\n",
            "Loss on batch 150 / 422: 0.11520596919556939\n",
            "Loss on batch 200 / 422: 0.11937658825729268\n",
            "Loss on batch 250 / 422: 0.1233829837765921\n",
            "Loss on batch 300 / 422: 0.12414558526921797\n",
            "Loss on batch 350 / 422: 0.12419947784628833\n",
            "Loss on batch 400 / 422: 0.12234855141980254\n",
            "Training time: 115.38240838050842\n",
            "Validation loss: 0.12452608288219066\n",
            "Validation time: 4.24103569984436\n",
            "Epoch 6 / 15\n",
            "Loss on batch 0 / 422: 0.12178164980455848\n",
            "Loss on batch 50 / 422: 0.1218470921280868\n",
            "Loss on batch 100 / 422: 0.11532698882417651\n",
            "Loss on batch 150 / 422: 0.12251113703221819\n",
            "Loss on batch 200 / 422: 0.12011447104619451\n",
            "Loss on batch 250 / 422: 0.12362923485382751\n",
            "Loss on batch 300 / 422: 0.12027725321021117\n",
            "Loss on batch 350 / 422: 0.12095414884520704\n",
            "Loss on batch 400 / 422: 0.11984441850603972\n",
            "Training time: 115.43368434906006\n",
            "Validation loss: 0.12420340449721864\n",
            "Validation time: 4.242666006088257\n",
            "Epoch 7 / 15\n",
            "Loss on batch 0 / 422: 0.12128160381244983\n",
            "Loss on batch 50 / 422: 0.11962364426013211\n",
            "Loss on batch 100 / 422: 0.11826540718011806\n",
            "Loss on batch 150 / 422: 0.11854011144149622\n",
            "Loss on batch 200 / 422: 0.11811278018215236\n",
            "Loss on batch 250 / 422: 0.1220086481844973\n",
            "Loss on batch 300 / 422: 0.12087028682878632\n",
            "Loss on batch 350 / 422: 0.12456892933894181\n",
            "Loss on batch 400 / 422: 0.12169219074730968\n",
            "Training time: 115.37653040885925\n",
            "Validation loss: 0.1239090554310441\n",
            "Validation time: 4.244182586669922\n",
            "Epoch 8 / 15\n",
            "Loss on batch 0 / 422: 0.12381820517877554\n",
            "Loss on batch 50 / 422: 0.11910194015351483\n",
            "Loss on batch 100 / 422: 0.11994480957614337\n",
            "Loss on batch 150 / 422: 0.11987429434938959\n",
            "Loss on batch 200 / 422: 0.12179845964624281\n",
            "Loss on batch 250 / 422: 0.11923222578616845\n",
            "Loss on batch 300 / 422: 0.11665076385681766\n",
            "Loss on batch 350 / 422: 0.11800432113680824\n",
            "Loss on batch 400 / 422: 0.12277214819872764\n",
            "Training time: 115.38991808891296\n",
            "Validation loss: 0.12397861199578454\n",
            "Validation time: 4.243124723434448\n",
            "Epoch 9 / 15\n",
            "Loss on batch 0 / 422: 0.11992071796562248\n",
            "Loss on batch 50 / 422: 0.11766234007029258\n",
            "Loss on batch 100 / 422: 0.11941121877746642\n",
            "Loss on batch 150 / 422: 0.11995042533617153\n",
            "Loss on batch 200 / 422: 0.12144580863567363\n",
            "Loss on batch 250 / 422: 0.11875963150099751\n",
            "Loss on batch 300 / 422: 0.1161933321237228\n",
            "Loss on batch 350 / 422: 0.12054197077833921\n",
            "Loss on batch 400 / 422: 0.12474427208622146\n",
            "Training time: 115.44163417816162\n",
            "Validation loss: 0.12399783422459586\n",
            "Validation time: 4.239672899246216\n",
            "Epoch 10 / 15\n",
            "Model saved!\n",
            "Loss on batch 0 / 422: 0.11855736118438276\n",
            "Loss on batch 50 / 422: 0.12174965869159798\n",
            "Loss on batch 100 / 422: 0.1608323721348695\n",
            "Loss on batch 150 / 422: 0.14106700274570994\n",
            "Loss on batch 200 / 422: 0.13215835758861672\n",
            "Loss on batch 250 / 422: 0.12999490475696304\n",
            "Loss on batch 300 / 422: 0.13010833374993208\n",
            "Loss on batch 350 / 422: 0.13146750678995084\n",
            "Loss on batch 400 / 422: 0.1298038659604046\n",
            "Training time: 115.41354179382324\n",
            "Validation loss: 0.13063977881051317\n",
            "Validation time: 4.2436182498931885\n",
            "Epoch 11 / 15\n",
            "Loss on batch 0 / 422: 0.1284630190172778\n",
            "Loss on batch 50 / 422: 0.12631300657129155\n",
            "Loss on batch 100 / 422: 0.12528598701773916\n",
            "Loss on batch 150 / 422: 0.11991255639438154\n",
            "Loss on batch 200 / 422: 0.12554503266823877\n",
            "Loss on batch 250 / 422: 0.12361024422533225\n",
            "Loss on batch 300 / 422: 0.12507287828427002\n",
            "Loss on batch 350 / 422: 0.1297954516799624\n",
            "Loss on batch 400 / 422: 0.12685752938282333\n",
            "Training time: 115.35661339759827\n",
            "Validation loss: 0.12662159676678864\n",
            "Validation time: 4.240331172943115\n",
            "Epoch 12 / 15\n",
            "Loss on batch 0 / 422: 0.12563856315150798\n",
            "Loss on batch 50 / 422: 0.11964180188422321\n",
            "Loss on batch 100 / 422: 0.12293060622752261\n",
            "Loss on batch 150 / 422: 0.12438413339561472\n",
            "Loss on batch 200 / 422: 0.12242134102936772\n",
            "Loss on batch 250 / 422: 0.1208259316841638\n",
            "Loss on batch 300 / 422: 0.12590200781402963\n",
            "Loss on batch 350 / 422: 0.11864520103082345\n",
            "Loss on batch 400 / 422: 0.12261613302554496\n",
            "Training time: 115.3651602268219\n",
            "Validation loss: 0.12585517098141166\n",
            "Validation time: 4.240173578262329\n",
            "Epoch 13 / 15\n",
            "Loss on batch 0 / 422: 0.12264528817969121\n",
            "Loss on batch 50 / 422: 0.12027971478502351\n",
            "Loss on batch 100 / 422: 0.117970383227038\n",
            "Loss on batch 150 / 422: 0.119686409738047\n",
            "Loss on batch 200 / 422: 0.12629801249201633\n",
            "Loss on batch 250 / 422: 0.12302935936761804\n",
            "Loss on batch 300 / 422: 0.12162697305418249\n",
            "Loss on batch 350 / 422: 0.12571507788189185\n",
            "Loss on batch 400 / 422: 0.12068635196866355\n",
            "Training time: 115.44820833206177\n",
            "Validation loss: 0.12447716025274524\n",
            "Validation time: 4.240128755569458\n",
            "Epoch 14 / 15\n"
          ],
          "name": "stdout"
        }
      ]
    },
    {
      "cell_type": "code",
      "metadata": {
        "id": "fS2HsDyplK23",
        "colab_type": "code",
        "outputId": "798653b8-bbd0-4f0e-d75d-3284a2e11612",
        "colab": {
          "base_uri": "https://localhost:8080/",
          "height": 573
        }
      },
      "source": [
        "fig, ax = plt.subplots()\n",
        "ax.set(xlabel='step', ylabel='loss',\n",
        "       title='Loss behaviour')\n",
        "ax.plot(np.arange(len(losses_train)), losses_train, label=\"train\")\n",
        "ax.plot(np.arange(len(losses_train)), losses_val, label=\"validation\")\n",
        "ax.legend()\n",
        "plt.show()"
      ],
      "execution_count": 0,
      "outputs": [
        {
          "output_type": "display_data",
          "data": {
            "image/png": "[encoded data removed]",
            "text/plain": [
              "<Figure size 432x288 with 1 Axes>"
            ]
          },
          "metadata": {
            "tags": []
          }
        },
        {
          "output_type": "display_data",
          "data": {
            "image/png": "[encoded data removed]",
            "text/plain": [
              "<Figure size 432x288 with 1 Axes>"
            ]
          },
          "metadata": {
            "tags": []
          }
        }
      ]
    },
    {
      "cell_type": "code",
      "metadata": {
        "id": "QulpukOk5-Wt",
        "colab_type": "code",
        "colab": {
          "base_uri": "https://localhost:8080/",
          "height": 52
        },
        "outputId": "6ee86a9c-a184-44c5-8066-d1003c129a6c"
      },
      "source": [
        "if model is None or Path('./model_50.pkl').exists():\n",
        "  model = nn.Sequential(*layers)\n",
        "  model.load_state_dict(torch.load('./model_50.pkl'))\n",
        "  print('Loaded model trained on 50 epochs!')\n",
        "\n",
        "model.to(device)\n",
        "model.train(False)\n",
        "test_losses = []\n",
        "with torch.no_grad():\n",
        "  for batch in testloader:\n",
        "      #batch = Variable(batch.cuda(async=True))\n",
        "      batch = batch.to(device)\n",
        "      out = model(batch)\n",
        "      loss = loss_function(out, batch)\n",
        "      test_losses.append(float(loss) / dimensions / np.log(2))\n",
        "print(f'Loss on test data: {np.mean(test_losses)}')"
      ],
      "execution_count": 10,
      "outputs": [
        {
          "output_type": "stream",
          "text": [
            "Loaded model trained on 50 epochs!\n",
            "Loss on test data: 0.12339636978179852\n"
          ],
          "name": "stdout"
        }
      ]
    },
    {
      "cell_type": "code",
      "metadata": {
        "id": "EuTmh-1f-5EX",
        "colab_type": "code",
        "colab": {
          "base_uri": "https://localhost:8080/",
          "height": 809
        },
        "outputId": "1f601ad9-406b-4af1-82d8-8a13d35436d1"
      },
      "source": [
        "def sample_images(model, N=9):\n",
        "  model.to(device)\n",
        "  samples = torch.zeros((N, 3, 28, 28)).to(device)\n",
        "  with torch.no_grad():\n",
        "    for y in range(28):\n",
        "      for x in range(28):\n",
        "        for c in range(3):\n",
        "          probs = model(samples)\n",
        "          probs = probs.reshape(probs.shape[0], 3, 4, 28, 28).permute(0, 1, 3, 4, 2)\n",
        "          probs = F.softmax(probs, dim=-1).detach().cpu().numpy()\n",
        "          for i in range(N):\n",
        "            samples[i, c, y, x] = np.random.choice(4, p=probs[i, c, y, x])\n",
        "  return samples\n",
        "\n",
        "sampled_images = sample_images(model, 9)\n",
        "grid = torchvision.utils.make_grid(sampled_images.long(), nrow=3)\n",
        "imshow(grid)"
      ],
      "execution_count": 11,
      "outputs": [
        {
          "output_type": "display_data",
          "data": {
            "image/png": "[encoded data removed]",
            "text/plain": [
              "<Figure size 1008x1008 with 1 Axes>"
            ]
          },
          "metadata": {
            "tags": []
          }
        }
      ]
    },
    {
      "cell_type": "code",
      "metadata": {
        "id": "zMt2Q3odDHXU",
        "colab_type": "code",
        "colab": {
          "base_uri": "https://localhost:8080/",
          "height": 265
        },
        "outputId": "de52b735-bdb6-477e-80ec-a7d7b9246747"
      },
      "source": [
        "def receptive_field():\n",
        "  example = X_train[0].clone().detach().unsqueeze(0).to(device).requires_grad_(True)\n",
        "  model = nn.Sequential(*layers)\n",
        "  model.to(device)\n",
        "  probs = model(example)[:, 0, 14, 14]\n",
        "  \n",
        "  loss = -torch.log(probs)\n",
        "  loss.backward()\n",
        "  \n",
        "  img, img_ind = example.grad[0].abs().max(dim=0)\n",
        "  \n",
        "  plt.imshow(img.detach().cpu().numpy())\n",
        "  plt.show()\n",
        "\n",
        "receptive_field()"
      ],
      "execution_count": 12,
      "outputs": [
        {
          "output_type": "display_data",
          "data": {
            "image/png": "[encoded data removed]",
            "text/plain": [
              "<Figure size 432x288 with 1 Axes>"
            ]
          },
          "metadata": {
            "tags": []
          }
        }
      ]
    },
    {
      "cell_type": "code",
      "metadata": {
        "id": "NEaabswTJxxG",
        "colab_type": "code",
        "colab": {}
      },
      "source": [
        ""
      ],
      "execution_count": 0,
      "outputs": []
    }
  ]
}