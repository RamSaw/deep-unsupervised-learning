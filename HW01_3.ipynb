{
  "nbformat": 4,
  "nbformat_minor": 0,
  "metadata": {
    "colab": {
      "name": "HW01_3.ipynb",
      "provenance": [],
      "collapsed_sections": [],
      "toc_visible": true,
      "include_colab_link": true
    },
    "kernelspec": {
      "name": "python3",
      "display_name": "Python 3"
    },
    "accelerator": "GPU"
  },
  "cells": [
    {
      "cell_type": "markdown",
      "metadata": {
        "id": "view-in-github",
        "colab_type": "text"
      },
      "source": [
        "<a href=\"https://colab.research.google.com/github/RamSaw/deep-unsupervised-learning/blob/master/HW01_3.ipynb\" target=\"_parent\"><img src=\"https://colab.research.google.com/assets/colab-badge.svg\" alt=\"Open In Colab\"/></a>"
      ]
    },
    {
      "cell_type": "markdown",
      "metadata": {
        "id": "FBsD3NGdCQgx",
        "colab_type": "text"
      },
      "source": [
        "# Task 3 PixelCNN"
      ]
    },
    {
      "cell_type": "code",
      "metadata": {
        "id": "Gk-tN3BKCTvR",
        "colab_type": "code",
        "colab": {
          "base_uri": "https://localhost:8080/",
          "height": 34
        },
        "outputId": "11b360ca-7021-499c-d6f4-019cfb91034e"
      },
      "source": [
        "import time\n",
        "import numpy as np\n",
        "import torch\n",
        "import torch.nn as nn\n",
        "import torch.nn.functional as F\n",
        "import torch.optim as optim\n",
        "from torch.utils.data import Dataset, DataLoader\n",
        "from sklearn.model_selection import train_test_split\n",
        "import matplotlib\n",
        "import matplotlib.pyplot as plt\n",
        "import tqdm\n",
        "from torch.autograd import Variable\n",
        "from torch import cuda\n",
        "from mpl_toolkits.mplot3d import Axes3D\n",
        "import pickle\n",
        "import datetime\n",
        "SEED = 24839\n",
        "torch.manual_seed(SEED)\n",
        "#torch.backends.cudnn.deterministic = True\n",
        "#torch.backends.cudnn.benchmark = False\n",
        "np.random.seed(SEED)\n",
        "device = torch.device('cuda:0' if torch.cuda.is_available() else 'cpu')\n",
        "print(device)"
      ],
      "execution_count": 1,
      "outputs": [
        {
          "output_type": "stream",
          "text": [
            "cuda:0\n"
          ],
          "name": "stdout"
        }
      ]
    },
    {
      "cell_type": "code",
      "metadata": {
        "id": "LRO3ReDCFVqC",
        "colab_type": "code",
        "colab": {
          "base_uri": "https://localhost:8080/",
          "height": 86
        },
        "outputId": "86bc7067-7133-47ca-dc1d-675110b92cd1"
      },
      "source": [
        "dataset = None\n",
        "with open('mnist-hw1.pkl', 'rb') as data_file:\n",
        "  dataset = pickle.load(data_file)\n",
        "\n",
        "X_train = dataset['train']\n",
        "X_train, X_val = train_test_split(X_train, test_size=0.1, random_state=42)\n",
        "X_test = dataset['test']\n",
        "X_train, X_val, X_test = torch.tensor(X_train).transpose(1, 3).float(), torch.tensor(X_val).transpose(1, 3).float(), torch.tensor(X_test).transpose(1, 3).float()\n",
        "print(X_train.shape)\n",
        "print(X_val.shape)\n",
        "print(X_test.shape)\n",
        "print(X_train[0][0][0][0])"
      ],
      "execution_count": 2,
      "outputs": [
        {
          "output_type": "stream",
          "text": [
            "torch.Size([54000, 3, 28, 28])\n",
            "torch.Size([6000, 3, 28, 28])\n",
            "torch.Size([10000, 3, 28, 28])\n",
            "tensor(3.)\n"
          ],
          "name": "stdout"
        }
      ]
    },
    {
      "cell_type": "code",
      "metadata": {
        "id": "ZbapbUp8K4h8",
        "colab_type": "code",
        "colab": {
          "base_uri": "https://localhost:8080/",
          "height": 86
        },
        "outputId": "7b5a70ee-6202-46fb-a857-0cac33ed3b66"
      },
      "source": [
        "class MaskedConv2d(nn.Conv2d):\n",
        "    def __init__(self, mask_type, *args, **kwargs):\n",
        "        super(MaskedConv2d, self).__init__(*args, **kwargs)\n",
        "        self.register_buffer('mask', self.weight.data.clone())\n",
        "        _, _, kH, kW = self.weight.size()\n",
        "        self.mask.fill_(1)\n",
        "        self.mask[:, :, kH // 2, kW // 2 + (mask_type == 'B'):] = 0\n",
        "        self.mask[:, :, kH // 2 + 1:] = 0\n",
        "\n",
        "    def forward(self, x):\n",
        "        self.weight.data *= self.mask\n",
        "        return super(MaskedConv2d, self).forward(x)\n",
        "  \n",
        "def test_MaskedConv2d():\n",
        "  model_A = MaskedConv2d('A', 2, 3, (5, 4))\n",
        "  for param in model_A.parameters():\n",
        "      if param.requires_grad:\n",
        "        print(param.data.shape)\n",
        "  model_B = MaskedConv2d('B', 2, 3, (5, 4))\n",
        "  for param in model_B.parameters():\n",
        "      if param.requires_grad:\n",
        "        print(param.data.shape)\n",
        "test_MaskedConv2d()"
      ],
      "execution_count": 3,
      "outputs": [
        {
          "output_type": "stream",
          "text": [
            "torch.Size([3, 2, 5, 4])\n",
            "torch.Size([3])\n",
            "torch.Size([3, 2, 5, 4])\n",
            "torch.Size([3])\n"
          ],
          "name": "stdout"
        }
      ]
    },
    {
      "cell_type": "code",
      "metadata": {
        "id": "HZFnPQotP4N1",
        "colab_type": "code",
        "colab": {
          "base_uri": "https://localhost:8080/",
          "height": 225
        },
        "outputId": "0f3d4ad8-fb0d-445f-ed3b-eaa53be358e2"
      },
      "source": [
        "class ResidualBlock(nn.Module):\n",
        "  def __init__(self, h):\n",
        "    super(ResidualBlock, self).__init__()\n",
        "    self.block = nn.Sequential(\n",
        "        nn.ReLU(),\n",
        "        MaskedConv2d('B', 2 * h, h, kernel_size=1),\n",
        "        nn.BatchNorm2d(h),\n",
        "        nn.ReLU(),\n",
        "        MaskedConv2d('B', h, h, kernel_size=3, padding=1),\n",
        "        nn.BatchNorm2d(h),\n",
        "        nn.ReLU(),\n",
        "        MaskedConv2d('B', h, 2 * h, kernel_size=1),\n",
        "        nn.BatchNorm2d(2 * h),\n",
        "    )\n",
        "  \n",
        "  def forward(self, x):\n",
        "    return self.block(x)\n",
        "    \n",
        "def test_ResidualBlock():\n",
        "  model = ResidualBlock(2)\n",
        "  for param in model.parameters():\n",
        "      if param.requires_grad:\n",
        "        print(param.data.shape)\n",
        "test_ResidualBlock()"
      ],
      "execution_count": 4,
      "outputs": [
        {
          "output_type": "stream",
          "text": [
            "torch.Size([2, 4, 1, 1])\n",
            "torch.Size([2])\n",
            "torch.Size([2])\n",
            "torch.Size([2])\n",
            "torch.Size([2, 2, 3, 3])\n",
            "torch.Size([2])\n",
            "torch.Size([2])\n",
            "torch.Size([2])\n",
            "torch.Size([4, 2, 1, 1])\n",
            "torch.Size([4])\n",
            "torch.Size([4])\n",
            "torch.Size([4])\n"
          ],
          "name": "stdout"
        }
      ]
    },
    {
      "cell_type": "code",
      "metadata": {
        "id": "Ccn2nidLNq5m",
        "colab_type": "code",
        "colab": {
          "base_uri": "https://localhost:8080/",
          "height": 1000
        },
        "outputId": "102f6fd2-5328-44bc-8286-95722717e17e"
      },
      "source": [
        "h = 128 # 128, CUDA out of memory on colab\n",
        "layers = [\n",
        "  MaskedConv2d('A', 3,  2 * h, 7, stride=1, padding=3, bias=False), \n",
        "  nn.BatchNorm2d(2 * h),\n",
        "  nn.ReLU()\n",
        "]\n",
        "layers += [ResidualBlock(h) for i in range(12)]\n",
        "layers += [\n",
        "   nn.ReLU(),\n",
        "   MaskedConv2d('B', 2 * h, 2 * h, 1),\n",
        "   nn.BatchNorm2d(2 * h),\n",
        "   nn.ReLU(),\n",
        "   nn.Conv2d(2 * h, 3 * 4, 1)\n",
        "]\n",
        "\n",
        "def test_model():\n",
        "  model = nn.Sequential(*layers)\n",
        "  print(model)\n",
        "  trainloader = DataLoader(X_train, batch_size=128, shuffle=True)\n",
        "  for batch in trainloader:\n",
        "    print(batch.size())\n",
        "    model.train(False)\n",
        "    out = model(batch)\n",
        "    print(out.shape)\n",
        "    break\n",
        "\n",
        "test_model()"
      ],
      "execution_count": 5,
      "outputs": [
        {
          "output_type": "stream",
          "text": [
            "Sequential(\n",
            "  (0): MaskedConv2d(3, 256, kernel_size=(7, 7), stride=(1, 1), padding=(3, 3), bias=False)\n",
            "  (1): BatchNorm2d(256, eps=1e-05, momentum=0.1, affine=True, track_running_stats=True)\n",
            "  (2): ReLU()\n",
            "  (3): ResidualBlock(\n",
            "    (block): Sequential(\n",
            "      (0): ReLU()\n",
            "      (1): MaskedConv2d(256, 128, kernel_size=(1, 1), stride=(1, 1))\n",
            "      (2): BatchNorm2d(128, eps=1e-05, momentum=0.1, affine=True, track_running_stats=True)\n",
            "      (3): ReLU()\n",
            "      (4): MaskedConv2d(128, 128, kernel_size=(3, 3), stride=(1, 1), padding=(1, 1))\n",
            "      (5): BatchNorm2d(128, eps=1e-05, momentum=0.1, affine=True, track_running_stats=True)\n",
            "      (6): ReLU()\n",
            "      (7): MaskedConv2d(128, 256, kernel_size=(1, 1), stride=(1, 1))\n",
            "      (8): BatchNorm2d(256, eps=1e-05, momentum=0.1, affine=True, track_running_stats=True)\n",
            "    )\n",
            "  )\n",
            "  (4): ResidualBlock(\n",
            "    (block): Sequential(\n",
            "      (0): ReLU()\n",
            "      (1): MaskedConv2d(256, 128, kernel_size=(1, 1), stride=(1, 1))\n",
            "      (2): BatchNorm2d(128, eps=1e-05, momentum=0.1, affine=True, track_running_stats=True)\n",
            "      (3): ReLU()\n",
            "      (4): MaskedConv2d(128, 128, kernel_size=(3, 3), stride=(1, 1), padding=(1, 1))\n",
            "      (5): BatchNorm2d(128, eps=1e-05, momentum=0.1, affine=True, track_running_stats=True)\n",
            "      (6): ReLU()\n",
            "      (7): MaskedConv2d(128, 256, kernel_size=(1, 1), stride=(1, 1))\n",
            "      (8): BatchNorm2d(256, eps=1e-05, momentum=0.1, affine=True, track_running_stats=True)\n",
            "    )\n",
            "  )\n",
            "  (5): ResidualBlock(\n",
            "    (block): Sequential(\n",
            "      (0): ReLU()\n",
            "      (1): MaskedConv2d(256, 128, kernel_size=(1, 1), stride=(1, 1))\n",
            "      (2): BatchNorm2d(128, eps=1e-05, momentum=0.1, affine=True, track_running_stats=True)\n",
            "      (3): ReLU()\n",
            "      (4): MaskedConv2d(128, 128, kernel_size=(3, 3), stride=(1, 1), padding=(1, 1))\n",
            "      (5): BatchNorm2d(128, eps=1e-05, momentum=0.1, affine=True, track_running_stats=True)\n",
            "      (6): ReLU()\n",
            "      (7): MaskedConv2d(128, 256, kernel_size=(1, 1), stride=(1, 1))\n",
            "      (8): BatchNorm2d(256, eps=1e-05, momentum=0.1, affine=True, track_running_stats=True)\n",
            "    )\n",
            "  )\n",
            "  (6): ResidualBlock(\n",
            "    (block): Sequential(\n",
            "      (0): ReLU()\n",
            "      (1): MaskedConv2d(256, 128, kernel_size=(1, 1), stride=(1, 1))\n",
            "      (2): BatchNorm2d(128, eps=1e-05, momentum=0.1, affine=True, track_running_stats=True)\n",
            "      (3): ReLU()\n",
            "      (4): MaskedConv2d(128, 128, kernel_size=(3, 3), stride=(1, 1), padding=(1, 1))\n",
            "      (5): BatchNorm2d(128, eps=1e-05, momentum=0.1, affine=True, track_running_stats=True)\n",
            "      (6): ReLU()\n",
            "      (7): MaskedConv2d(128, 256, kernel_size=(1, 1), stride=(1, 1))\n",
            "      (8): BatchNorm2d(256, eps=1e-05, momentum=0.1, affine=True, track_running_stats=True)\n",
            "    )\n",
            "  )\n",
            "  (7): ResidualBlock(\n",
            "    (block): Sequential(\n",
            "      (0): ReLU()\n",
            "      (1): MaskedConv2d(256, 128, kernel_size=(1, 1), stride=(1, 1))\n",
            "      (2): BatchNorm2d(128, eps=1e-05, momentum=0.1, affine=True, track_running_stats=True)\n",
            "      (3): ReLU()\n",
            "      (4): MaskedConv2d(128, 128, kernel_size=(3, 3), stride=(1, 1), padding=(1, 1))\n",
            "      (5): BatchNorm2d(128, eps=1e-05, momentum=0.1, affine=True, track_running_stats=True)\n",
            "      (6): ReLU()\n",
            "      (7): MaskedConv2d(128, 256, kernel_size=(1, 1), stride=(1, 1))\n",
            "      (8): BatchNorm2d(256, eps=1e-05, momentum=0.1, affine=True, track_running_stats=True)\n",
            "    )\n",
            "  )\n",
            "  (8): ResidualBlock(\n",
            "    (block): Sequential(\n",
            "      (0): ReLU()\n",
            "      (1): MaskedConv2d(256, 128, kernel_size=(1, 1), stride=(1, 1))\n",
            "      (2): BatchNorm2d(128, eps=1e-05, momentum=0.1, affine=True, track_running_stats=True)\n",
            "      (3): ReLU()\n",
            "      (4): MaskedConv2d(128, 128, kernel_size=(3, 3), stride=(1, 1), padding=(1, 1))\n",
            "      (5): BatchNorm2d(128, eps=1e-05, momentum=0.1, affine=True, track_running_stats=True)\n",
            "      (6): ReLU()\n",
            "      (7): MaskedConv2d(128, 256, kernel_size=(1, 1), stride=(1, 1))\n",
            "      (8): BatchNorm2d(256, eps=1e-05, momentum=0.1, affine=True, track_running_stats=True)\n",
            "    )\n",
            "  )\n",
            "  (9): ResidualBlock(\n",
            "    (block): Sequential(\n",
            "      (0): ReLU()\n",
            "      (1): MaskedConv2d(256, 128, kernel_size=(1, 1), stride=(1, 1))\n",
            "      (2): BatchNorm2d(128, eps=1e-05, momentum=0.1, affine=True, track_running_stats=True)\n",
            "      (3): ReLU()\n",
            "      (4): MaskedConv2d(128, 128, kernel_size=(3, 3), stride=(1, 1), padding=(1, 1))\n",
            "      (5): BatchNorm2d(128, eps=1e-05, momentum=0.1, affine=True, track_running_stats=True)\n",
            "      (6): ReLU()\n",
            "      (7): MaskedConv2d(128, 256, kernel_size=(1, 1), stride=(1, 1))\n",
            "      (8): BatchNorm2d(256, eps=1e-05, momentum=0.1, affine=True, track_running_stats=True)\n",
            "    )\n",
            "  )\n",
            "  (10): ResidualBlock(\n",
            "    (block): Sequential(\n",
            "      (0): ReLU()\n",
            "      (1): MaskedConv2d(256, 128, kernel_size=(1, 1), stride=(1, 1))\n",
            "      (2): BatchNorm2d(128, eps=1e-05, momentum=0.1, affine=True, track_running_stats=True)\n",
            "      (3): ReLU()\n",
            "      (4): MaskedConv2d(128, 128, kernel_size=(3, 3), stride=(1, 1), padding=(1, 1))\n",
            "      (5): BatchNorm2d(128, eps=1e-05, momentum=0.1, affine=True, track_running_stats=True)\n",
            "      (6): ReLU()\n",
            "      (7): MaskedConv2d(128, 256, kernel_size=(1, 1), stride=(1, 1))\n",
            "      (8): BatchNorm2d(256, eps=1e-05, momentum=0.1, affine=True, track_running_stats=True)\n",
            "    )\n",
            "  )\n",
            "  (11): ResidualBlock(\n",
            "    (block): Sequential(\n",
            "      (0): ReLU()\n",
            "      (1): MaskedConv2d(256, 128, kernel_size=(1, 1), stride=(1, 1))\n",
            "      (2): BatchNorm2d(128, eps=1e-05, momentum=0.1, affine=True, track_running_stats=True)\n",
            "      (3): ReLU()\n",
            "      (4): MaskedConv2d(128, 128, kernel_size=(3, 3), stride=(1, 1), padding=(1, 1))\n",
            "      (5): BatchNorm2d(128, eps=1e-05, momentum=0.1, affine=True, track_running_stats=True)\n",
            "      (6): ReLU()\n",
            "      (7): MaskedConv2d(128, 256, kernel_size=(1, 1), stride=(1, 1))\n",
            "      (8): BatchNorm2d(256, eps=1e-05, momentum=0.1, affine=True, track_running_stats=True)\n",
            "    )\n",
            "  )\n",
            "  (12): ResidualBlock(\n",
            "    (block): Sequential(\n",
            "      (0): ReLU()\n",
            "      (1): MaskedConv2d(256, 128, kernel_size=(1, 1), stride=(1, 1))\n",
            "      (2): BatchNorm2d(128, eps=1e-05, momentum=0.1, affine=True, track_running_stats=True)\n",
            "      (3): ReLU()\n",
            "      (4): MaskedConv2d(128, 128, kernel_size=(3, 3), stride=(1, 1), padding=(1, 1))\n",
            "      (5): BatchNorm2d(128, eps=1e-05, momentum=0.1, affine=True, track_running_stats=True)\n",
            "      (6): ReLU()\n",
            "      (7): MaskedConv2d(128, 256, kernel_size=(1, 1), stride=(1, 1))\n",
            "      (8): BatchNorm2d(256, eps=1e-05, momentum=0.1, affine=True, track_running_stats=True)\n",
            "    )\n",
            "  )\n",
            "  (13): ResidualBlock(\n",
            "    (block): Sequential(\n",
            "      (0): ReLU()\n",
            "      (1): MaskedConv2d(256, 128, kernel_size=(1, 1), stride=(1, 1))\n",
            "      (2): BatchNorm2d(128, eps=1e-05, momentum=0.1, affine=True, track_running_stats=True)\n",
            "      (3): ReLU()\n",
            "      (4): MaskedConv2d(128, 128, kernel_size=(3, 3), stride=(1, 1), padding=(1, 1))\n",
            "      (5): BatchNorm2d(128, eps=1e-05, momentum=0.1, affine=True, track_running_stats=True)\n",
            "      (6): ReLU()\n",
            "      (7): MaskedConv2d(128, 256, kernel_size=(1, 1), stride=(1, 1))\n",
            "      (8): BatchNorm2d(256, eps=1e-05, momentum=0.1, affine=True, track_running_stats=True)\n",
            "    )\n",
            "  )\n",
            "  (14): ResidualBlock(\n",
            "    (block): Sequential(\n",
            "      (0): ReLU()\n",
            "      (1): MaskedConv2d(256, 128, kernel_size=(1, 1), stride=(1, 1))\n",
            "      (2): BatchNorm2d(128, eps=1e-05, momentum=0.1, affine=True, track_running_stats=True)\n",
            "      (3): ReLU()\n",
            "      (4): MaskedConv2d(128, 128, kernel_size=(3, 3), stride=(1, 1), padding=(1, 1))\n",
            "      (5): BatchNorm2d(128, eps=1e-05, momentum=0.1, affine=True, track_running_stats=True)\n",
            "      (6): ReLU()\n",
            "      (7): MaskedConv2d(128, 256, kernel_size=(1, 1), stride=(1, 1))\n",
            "      (8): BatchNorm2d(256, eps=1e-05, momentum=0.1, affine=True, track_running_stats=True)\n",
            "    )\n",
            "  )\n",
            "  (15): ReLU()\n",
            "  (16): MaskedConv2d(256, 256, kernel_size=(1, 1), stride=(1, 1))\n",
            "  (17): BatchNorm2d(256, eps=1e-05, momentum=0.1, affine=True, track_running_stats=True)\n",
            "  (18): ReLU()\n",
            "  (19): Conv2d(256, 12, kernel_size=(1, 1), stride=(1, 1))\n",
            ")\n",
            "torch.Size([128, 3, 28, 28])\n",
            "torch.Size([128, 12, 28, 28])\n"
          ],
          "name": "stdout"
        }
      ]
    },
    {
      "cell_type": "code",
      "metadata": {
        "id": "nx7IG7__duu3",
        "colab_type": "code",
        "colab": {}
      },
      "source": [
        "def loss_function(out, batch):\n",
        "  out = out.reshape(out.shape[0], 3, 4, 28, 28).permute(0, 1, 3, 4, 2)\n",
        "  probs = F.softmax(out, dim=-1)\n",
        "  target = F.one_hot(batch.to(torch.int64), -1)\n",
        "  probs = (probs * target).sum(dim=-1)\n",
        "  return -torch.sum(torch.log(probs)) / len(probs)"
      ],
      "execution_count": 0,
      "outputs": []
    },
    {
      "cell_type": "code",
      "metadata": {
        "id": "NkuzrXuzUqpd",
        "colab_type": "code",
        "colab": {}
      },
      "source": [
        "batch_size = 128\n",
        "trainloader = DataLoader(X_train, batch_size=batch_size, shuffle=True)\n",
        "valloader = DataLoader(X_val, batch_size=batch_size, shuffle=False)\n",
        "testloader = DataLoader(X_test, batch_size=batch_size, shuffle=False)"
      ],
      "execution_count": 0,
      "outputs": []
    },
    {
      "cell_type": "code",
      "metadata": {
        "id": "eFjXs08WOj0q",
        "colab_type": "code",
        "colab": {
          "base_uri": "https://localhost:8080/",
          "height": 434
        },
        "outputId": "766370dd-f689-4ff4-cdb5-34a07b542ce9"
      },
      "source": [
        "num_epochs = 2\n",
        "lr = 1e-3\n",
        "torch.autograd.set_detect_anomaly(True)\n",
        "model = nn.Sequential(*layers)\n",
        "#model.to(device)\n",
        "model.cuda()\n",
        "optimizer = optim.Adam(model.parameters(), lr=lr)\n",
        "losses_train = []\n",
        "losses_val = []\n",
        "num_batches = len(trainloader)\n",
        "dimensions = 28 * 28 * 3\n",
        "for epoch in range(num_epochs):\n",
        "  cuda.synchronize()\n",
        "  time_tr = time.time()\n",
        "  model.train(True)\n",
        "  losses_train_per_epoch = []\n",
        "  for i, batch in enumerate(trainloader):\n",
        "      batch = Variable(batch.cuda(async=True))\n",
        "      #batch = batch.to(device)\n",
        "      out = model(batch)\n",
        "      loss = loss_function(out, batch)\n",
        "      losses_train_per_epoch.append(float(loss) / dimensions / np.log(2))\n",
        "      optimizer.zero_grad()\n",
        "      loss.backward()\n",
        "      optimizer.step()\n",
        "      if i % 50 == 0:\n",
        "        print(f'Loss on batch {i} / {num_batches}: {losses_train_per_epoch[-1]}')\n",
        "  cuda.synchronize()\n",
        "  losses_train.append(np.mean(losses_train_per_epoch))\n",
        "  time_tr = time.time() - time_tr\n",
        "  print(f'Training time: {time_tr}')\n",
        "  torch.cuda.empty_cache()\n",
        "\n",
        "  # compute error on test set\n",
        "  cuda.synchronize()\n",
        "  time_te = time.time()\n",
        "  losses_val_per_epoch = []\n",
        "  model.train(False)\n",
        "  with torch.no_grad():\n",
        "    for batch in valloader:\n",
        "        batch = Variable(batch.cuda(async=True))\n",
        "        #batch = batch.to(device)\n",
        "        out = model(batch)\n",
        "        loss = loss_function(out, batch)\n",
        "        losses_val_per_epoch.append(float(loss) / dimensions / np.log(2))\n",
        "  cuda.synchronize()\n",
        "  losses_val.append(np.mean(losses_val_per_epoch))\n",
        "  time_te = time.time() - time_te\n",
        "  print(f'Validation loss: {losses_val[-1]}')\n",
        "  print(f'Validation time: {time_te}')\n",
        "  torch.cuda.empty_cache()\n",
        "\n",
        "torch.save(model.state_dict(), \"./model.pkl\")"
      ],
      "execution_count": 8,
      "outputs": [
        {
          "output_type": "stream",
          "text": [
            "Loss on batch 0 / 422: 2.0677089152885553\n",
            "Loss on batch 50 / 422: 0.7616492843554691\n",
            "Loss on batch 100 / 422: 0.5357602790910211\n",
            "Loss on batch 150 / 422: 0.4346802675471193\n",
            "Loss on batch 200 / 422: 0.3743117832042606\n",
            "Loss on batch 250 / 422: 0.33456983569128174\n",
            "Loss on batch 300 / 422: 0.3363680020523029\n",
            "Loss on batch 350 / 422: 0.33319502275958457\n",
            "Loss on batch 400 / 422: 0.29904652198826714\n",
            "Training time: 144.48006629943848\n",
            "Validation loss: 0.30055207578763304\n",
            "Validation time: 4.19731593132019\n",
            "Loss on batch 0 / 422: 0.31386825358822534\n",
            "Loss on batch 50 / 422: 0.2795067470390393\n",
            "Loss on batch 100 / 422: 0.26590198807558646\n",
            "Loss on batch 150 / 422: 0.23486817500789497\n",
            "Loss on batch 200 / 422: 0.2211606101975264\n",
            "Loss on batch 250 / 422: 0.21464636600324546\n",
            "Loss on batch 300 / 422: 0.2081895148764525\n",
            "Loss on batch 350 / 422: 0.2079962016970827\n",
            "Loss on batch 400 / 422: 0.18885585703945873\n",
            "Training time: 144.59289383888245\n",
            "Validation loss: 0.18070992429620897\n",
            "Validation time: 4.198928594589233\n"
          ],
          "name": "stdout"
        }
      ]
    },
    {
      "cell_type": "code",
      "metadata": {
        "id": "fS2HsDyplK23",
        "colab_type": "code",
        "colab": {
          "base_uri": "https://localhost:8080/",
          "height": 295
        },
        "outputId": "91c1ca4b-f728-446b-b960-2f5a0b3e74c8"
      },
      "source": [
        "fig, ax = plt.subplots()\n",
        "ax.set(xlabel='step', ylabel='loss',\n",
        "       title='Loss behaviour')\n",
        "ax.plot(np.arange(len(losses_train)), losses_train, label=\"train\")\n",
        "ax.plot(np.arange(len(losses_train)), losses_val, label=\"validation\")\n",
        "ax.legend()\n",
        "plt.show()"
      ],
      "execution_count": 9,
      "outputs": [
        {
          "output_type": "display_data",
          "data": {
            "image/png": "[encoded data removed]",
            "text/plain": [
              "<Figure size 432x288 with 1 Axes>"
            ]
          },
          "metadata": {
            "tags": []
          }
        }
      ]
    }
  ]
}